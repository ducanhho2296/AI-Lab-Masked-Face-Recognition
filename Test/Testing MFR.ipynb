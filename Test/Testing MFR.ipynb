{
  "nbformat": 4,
  "nbformat_minor": 0,
  "metadata": {
    "colab": {
      "name": "Copy of Arcface Masked face recognition",
      "provenance": [],
      "collapsed_sections": [
        "oXrV91GqZwR3",
        "HNBS4YoBZU5U",
        "lnZ-RRT-WM8E",
        "TmpIu01aPwvW",
        "76sIOiDwtNeF",
        "wETlEeJVxe1Y",
        "qPjyozbGfxEK",
        "uz8gDW2sLhzi"
      ],
      "mount_file_id": "1_FTEp56uqxRZ9sjTHQfykSMLl_SxWn3r",
      "authorship_tag": "ABX9TyMlf+UWJuouI2F0bUgmfmWU",
      "include_colab_link": true
    },
    "kernelspec": {
      "name": "python3",
      "display_name": "Python 3"
    },
    "language_info": {
      "name": "python"
    },
    "gpuClass": "standard",
    "accelerator": "GPU"
  },
  "cells": [
    {
      "cell_type": "markdown",
      "metadata": {
        "id": "view-in-github",
        "colab_type": "text"
      },
      "source": [
        "<a href=\"https://colab.research.google.com/github/ducanhho2296/AI-Lab-Masked-Face-Recognition-Challenge/blob/main/Testing%20MFR.ipynb\" target=\"_parent\"><img src=\"https://colab.research.google.com/assets/colab-badge.svg\" alt=\"Open In Colab\"/></a>"
      ]
    },
    {
      "cell_type": "markdown",
      "source": [
        "#ResNet34- Face recognition [deepface](https://github.com/serengil/deepface)"
      ],
      "metadata": {
        "id": "GoZh7QxIVaPT"
      }
    },
    {
      "cell_type": "markdown",
      "source": [
        "github limit file size to upload model, so I upload the weights in google drive\n"
      ],
      "metadata": {
        "id": "5P-BNVrImkT6"
      }
    },
    {
      "cell_type": "code",
      "source": [
        "import gdown\n",
        "!gdown 1LVB3CdVejpmGHM28BpqqkbZP5hDEcdZY"
      ],
      "metadata": {
        "colab": {
          "base_uri": "https://localhost:8080/"
        },
        "id": "SQBLo-pEVgM1",
        "outputId": "c5c8abbb-b79b-4191-ddf0-65f22a28d673"
      },
      "execution_count": null,
      "outputs": [
        {
          "output_type": "stream",
          "name": "stdout",
          "text": [
            "Downloading...\n",
            "From: https://drive.google.com/uc?id=1LVB3CdVejpmGHM28BpqqkbZP5hDEcdZY\n",
            "To: /content/arcface_weights.h5\n",
            "100% 137M/137M [00:01<00:00, 96.5MB/s]\n"
          ]
        }
      ]
    },
    {
      "cell_type": "code",
      "source": [
        "!git clone https://github.com/kb22/Create-Face-Data-from-Images.git"
      ],
      "metadata": {
        "colab": {
          "base_uri": "https://localhost:8080/"
        },
        "id": "cded_JkxCpoG",
        "outputId": "9814a52b-49ad-45d7-cdcd-e087fcba855a"
      },
      "execution_count": null,
      "outputs": [
        {
          "output_type": "stream",
          "name": "stdout",
          "text": [
            "fatal: destination path 'Create-Face-Data-from-Images' already exists and is not an empty directory.\n"
          ]
        }
      ]
    },
    {
      "cell_type": "markdown",
      "source": [
        "##Model Arcface-Resnet34"
      ],
      "metadata": {
        "id": "oXrV91GqZwR3"
      }
    },
    {
      "cell_type": "code",
      "source": [
        "import tensorflow as tf\n",
        "from tensorflow import keras\n",
        "from tensorflow.keras import layers\n",
        "from tensorflow.python.keras.engine import training\n",
        "\n",
        "def ResNet34():\n",
        "\n",
        "\timg_input = layers.Input(shape=(112, 112, 3))\n",
        "\n",
        "\tx = layers.ZeroPadding2D(padding=1, name='conv1_pad')(img_input)\n",
        "\tx = layers.Conv2D(64, 3, strides=1, use_bias=False, \n",
        "                   kernel_initializer='glorot_normal', \n",
        "                   name='conv1_conv')(x)\n",
        "\tx = layers.BatchNormalization(axis=3, epsilon=2e-5, momentum=0.9, name='conv1_bn')(x)\n",
        "\tx = layers.PReLU(shared_axes=[1, 2], name='conv1_prelu')(x)\n",
        "\tx = stack_fn(x)\n",
        "\n",
        "\tmodel = training.Model(img_input, x, name='ResNet34')\n",
        "\n",
        "\treturn model\n",
        "\n",
        "def block1(x, filters, kernel_size=3, stride=1, conv_shortcut=True, name=None):\n",
        "\tbn_axis = 3\n",
        "\n",
        "\tif conv_shortcut:\n",
        "\t\tshortcut = layers.Conv2D(filters, 1, strides=stride, use_bias=False, kernel_initializer='glorot_normal', name=name + '_0_conv')(x)\n",
        "\t\tshortcut = layers.BatchNormalization(axis=bn_axis, epsilon=2e-5, momentum=0.9, name=name + '_0_bn')(shortcut)\n",
        "\telse:\n",
        "\t\tshortcut = x\n",
        "\n",
        "\tx = layers.BatchNormalization(axis=bn_axis, epsilon=2e-5, momentum=0.9, name=name + '_1_bn')(x)\n",
        "\tx = layers.ZeroPadding2D(padding=1, name=name + '_1_pad')(x)\n",
        "\tx = layers.Conv2D(filters, 3, strides=1, kernel_initializer='glorot_normal', use_bias=False, name=name + '_1_conv')(x)\n",
        "\tx = layers.BatchNormalization(axis=bn_axis, epsilon=2e-5, momentum=0.9, name=name + '_2_bn')(x)\n",
        "\tx = layers.PReLU(shared_axes=[1, 2], name=name + '_1_prelu')(x)\n",
        "\n",
        "\tx = layers.ZeroPadding2D(padding=1, name=name + '_2_pad')(x)\n",
        "\tx = layers.Conv2D(filters, kernel_size, strides=stride, kernel_initializer='glorot_normal', use_bias=False, name=name + '_2_conv')(x)\n",
        "\tx = layers.BatchNormalization(axis=bn_axis, epsilon=2e-5, momentum=0.9, name=name + '_3_bn')(x)\n",
        "\n",
        "\tx = layers.Add(name=name + '_add')([shortcut, x])\n",
        "\treturn x\n",
        "\n",
        "def stack1(x, filters, blocks, stride1=2, name=None):\n",
        "\tx = block1(x, filters, stride=stride1, name=name + '_block1')\n",
        "\tfor i in range(2, blocks + 1):\n",
        "\t\tx = block1(x, filters, conv_shortcut=False, name=name + '_block' + str(i))\n",
        "\treturn x\n",
        "\n",
        "def stack_fn(x):\n",
        "\tx = stack1(x, 64, 3, name='conv2')\n",
        "\tx = stack1(x, 128, 4, name='conv3')\n",
        "\tx = stack1(x, 256, 6, name='conv4')\n",
        "\treturn stack1(x, 512, 3, name='conv5')"
      ],
      "metadata": {
        "id": "2VwqwjwuVjs7"
      },
      "execution_count": null,
      "outputs": []
    },
    {
      "cell_type": "markdown",
      "source": [
        "###Load model"
      ],
      "metadata": {
        "id": "riaWYZS7O7MK"
      }
    },
    {
      "cell_type": "code",
      "source": [
        "def loadModel(model_path):\n",
        "\tbase_model = ResNet34()\n",
        "\tinputs = base_model.inputs[0]\n",
        "\tarcface_model = base_model.outputs[0]\n",
        "\tarcface_model = layers.BatchNormalization(momentum=0.9, epsilon=2e-5)(arcface_model)\n",
        "\tarcface_model = layers.Dropout(0.4)(arcface_model)\n",
        "\tarcface_model = layers.Flatten()(arcface_model)\n",
        "\tarcface_model = layers.Dense(512, activation=None, use_bias=True, kernel_initializer=\"glorot_normal\")(arcface_model)\n",
        "\tembedding = layers.BatchNormalization(momentum=0.9, epsilon=2e-5, name=\"embedding\", scale=True)(arcface_model)\n",
        "\tmodel = keras.models.Model(inputs, embedding, name=base_model.name)\n",
        "\n",
        "\tmodel.load_weights(model_path)\n",
        "\n",
        "\treturn model"
      ],
      "metadata": {
        "id": "71zVbDunO6r-"
      },
      "execution_count": null,
      "outputs": []
    },
    {
      "cell_type": "code",
      "source": [
        "model_path = \"/content/arcface_weights.h5\"\n",
        "model = loadModel(model_path)"
      ],
      "metadata": {
        "id": "T6V2QyuhWIr_"
      },
      "execution_count": null,
      "outputs": []
    },
    {
      "cell_type": "code",
      "source": [
        "model.summary() \n",
        "# tf.keras.utils.plot_model(model, to_file=\"demo.png\", show_shapes=True)"
      ],
      "metadata": {
        "id": "UXDEb67ta-M3",
        "colab": {
          "base_uri": "https://localhost:8080/"
        },
        "outputId": "c70e4ec3-f827-4aae-c676-85f8fb39a866"
      },
      "execution_count": null,
      "outputs": [
        {
          "output_type": "stream",
          "name": "stdout",
          "text": [
            "Model: \"ResNet34\"\n",
            "__________________________________________________________________________________________________\n",
            " Layer (type)                   Output Shape         Param #     Connected to                     \n",
            "==================================================================================================\n",
            " input_1 (InputLayer)           [(None, 112, 112, 3  0           []                               \n",
            "                                )]                                                                \n",
            "                                                                                                  \n",
            " conv1_pad (ZeroPadding2D)      (None, 114, 114, 3)  0           ['input_1[0][0]']                \n",
            "                                                                                                  \n",
            " conv1_conv (Conv2D)            (None, 112, 112, 64  1728        ['conv1_pad[0][0]']              \n",
            "                                )                                                                 \n",
            "                                                                                                  \n",
            " conv1_bn (BatchNormalization)  (None, 112, 112, 64  256         ['conv1_conv[0][0]']             \n",
            "                                )                                                                 \n",
            "                                                                                                  \n",
            " conv1_prelu (PReLU)            (None, 112, 112, 64  64          ['conv1_bn[0][0]']               \n",
            "                                )                                                                 \n",
            "                                                                                                  \n",
            " conv2_block1_1_bn (BatchNormal  (None, 112, 112, 64  256        ['conv1_prelu[0][0]']            \n",
            " ization)                       )                                                                 \n",
            "                                                                                                  \n",
            " conv2_block1_1_pad (ZeroPaddin  (None, 114, 114, 64  0          ['conv2_block1_1_bn[0][0]']      \n",
            " g2D)                           )                                                                 \n",
            "                                                                                                  \n",
            " conv2_block1_1_conv (Conv2D)   (None, 112, 112, 64  36864       ['conv2_block1_1_pad[0][0]']     \n",
            "                                )                                                                 \n",
            "                                                                                                  \n",
            " conv2_block1_2_bn (BatchNormal  (None, 112, 112, 64  256        ['conv2_block1_1_conv[0][0]']    \n",
            " ization)                       )                                                                 \n",
            "                                                                                                  \n",
            " conv2_block1_1_prelu (PReLU)   (None, 112, 112, 64  64          ['conv2_block1_2_bn[0][0]']      \n",
            "                                )                                                                 \n",
            "                                                                                                  \n",
            " conv2_block1_2_pad (ZeroPaddin  (None, 114, 114, 64  0          ['conv2_block1_1_prelu[0][0]']   \n",
            " g2D)                           )                                                                 \n",
            "                                                                                                  \n",
            " conv2_block1_0_conv (Conv2D)   (None, 56, 56, 64)   4096        ['conv1_prelu[0][0]']            \n",
            "                                                                                                  \n",
            " conv2_block1_2_conv (Conv2D)   (None, 56, 56, 64)   36864       ['conv2_block1_2_pad[0][0]']     \n",
            "                                                                                                  \n",
            " conv2_block1_0_bn (BatchNormal  (None, 56, 56, 64)  256         ['conv2_block1_0_conv[0][0]']    \n",
            " ization)                                                                                         \n",
            "                                                                                                  \n",
            " conv2_block1_3_bn (BatchNormal  (None, 56, 56, 64)  256         ['conv2_block1_2_conv[0][0]']    \n",
            " ization)                                                                                         \n",
            "                                                                                                  \n",
            " conv2_block1_add (Add)         (None, 56, 56, 64)   0           ['conv2_block1_0_bn[0][0]',      \n",
            "                                                                  'conv2_block1_3_bn[0][0]']      \n",
            "                                                                                                  \n",
            " conv2_block2_1_bn (BatchNormal  (None, 56, 56, 64)  256         ['conv2_block1_add[0][0]']       \n",
            " ization)                                                                                         \n",
            "                                                                                                  \n",
            " conv2_block2_1_pad (ZeroPaddin  (None, 58, 58, 64)  0           ['conv2_block2_1_bn[0][0]']      \n",
            " g2D)                                                                                             \n",
            "                                                                                                  \n",
            " conv2_block2_1_conv (Conv2D)   (None, 56, 56, 64)   36864       ['conv2_block2_1_pad[0][0]']     \n",
            "                                                                                                  \n",
            " conv2_block2_2_bn (BatchNormal  (None, 56, 56, 64)  256         ['conv2_block2_1_conv[0][0]']    \n",
            " ization)                                                                                         \n",
            "                                                                                                  \n",
            " conv2_block2_1_prelu (PReLU)   (None, 56, 56, 64)   64          ['conv2_block2_2_bn[0][0]']      \n",
            "                                                                                                  \n",
            " conv2_block2_2_pad (ZeroPaddin  (None, 58, 58, 64)  0           ['conv2_block2_1_prelu[0][0]']   \n",
            " g2D)                                                                                             \n",
            "                                                                                                  \n",
            " conv2_block2_2_conv (Conv2D)   (None, 56, 56, 64)   36864       ['conv2_block2_2_pad[0][0]']     \n",
            "                                                                                                  \n",
            " conv2_block2_3_bn (BatchNormal  (None, 56, 56, 64)  256         ['conv2_block2_2_conv[0][0]']    \n",
            " ization)                                                                                         \n",
            "                                                                                                  \n",
            " conv2_block2_add (Add)         (None, 56, 56, 64)   0           ['conv2_block1_add[0][0]',       \n",
            "                                                                  'conv2_block2_3_bn[0][0]']      \n",
            "                                                                                                  \n",
            " conv2_block3_1_bn (BatchNormal  (None, 56, 56, 64)  256         ['conv2_block2_add[0][0]']       \n",
            " ization)                                                                                         \n",
            "                                                                                                  \n",
            " conv2_block3_1_pad (ZeroPaddin  (None, 58, 58, 64)  0           ['conv2_block3_1_bn[0][0]']      \n",
            " g2D)                                                                                             \n",
            "                                                                                                  \n",
            " conv2_block3_1_conv (Conv2D)   (None, 56, 56, 64)   36864       ['conv2_block3_1_pad[0][0]']     \n",
            "                                                                                                  \n",
            " conv2_block3_2_bn (BatchNormal  (None, 56, 56, 64)  256         ['conv2_block3_1_conv[0][0]']    \n",
            " ization)                                                                                         \n",
            "                                                                                                  \n",
            " conv2_block3_1_prelu (PReLU)   (None, 56, 56, 64)   64          ['conv2_block3_2_bn[0][0]']      \n",
            "                                                                                                  \n",
            " conv2_block3_2_pad (ZeroPaddin  (None, 58, 58, 64)  0           ['conv2_block3_1_prelu[0][0]']   \n",
            " g2D)                                                                                             \n",
            "                                                                                                  \n",
            " conv2_block3_2_conv (Conv2D)   (None, 56, 56, 64)   36864       ['conv2_block3_2_pad[0][0]']     \n",
            "                                                                                                  \n",
            " conv2_block3_3_bn (BatchNormal  (None, 56, 56, 64)  256         ['conv2_block3_2_conv[0][0]']    \n",
            " ization)                                                                                         \n",
            "                                                                                                  \n",
            " conv2_block3_add (Add)         (None, 56, 56, 64)   0           ['conv2_block2_add[0][0]',       \n",
            "                                                                  'conv2_block3_3_bn[0][0]']      \n",
            "                                                                                                  \n",
            " conv3_block1_1_bn (BatchNormal  (None, 56, 56, 64)  256         ['conv2_block3_add[0][0]']       \n",
            " ization)                                                                                         \n",
            "                                                                                                  \n",
            " conv3_block1_1_pad (ZeroPaddin  (None, 58, 58, 64)  0           ['conv3_block1_1_bn[0][0]']      \n",
            " g2D)                                                                                             \n",
            "                                                                                                  \n",
            " conv3_block1_1_conv (Conv2D)   (None, 56, 56, 128)  73728       ['conv3_block1_1_pad[0][0]']     \n",
            "                                                                                                  \n",
            " conv3_block1_2_bn (BatchNormal  (None, 56, 56, 128)  512        ['conv3_block1_1_conv[0][0]']    \n",
            " ization)                                                                                         \n",
            "                                                                                                  \n",
            " conv3_block1_1_prelu (PReLU)   (None, 56, 56, 128)  128         ['conv3_block1_2_bn[0][0]']      \n",
            "                                                                                                  \n",
            " conv3_block1_2_pad (ZeroPaddin  (None, 58, 58, 128)  0          ['conv3_block1_1_prelu[0][0]']   \n",
            " g2D)                                                                                             \n",
            "                                                                                                  \n",
            " conv3_block1_0_conv (Conv2D)   (None, 28, 28, 128)  8192        ['conv2_block3_add[0][0]']       \n",
            "                                                                                                  \n",
            " conv3_block1_2_conv (Conv2D)   (None, 28, 28, 128)  147456      ['conv3_block1_2_pad[0][0]']     \n",
            "                                                                                                  \n",
            " conv3_block1_0_bn (BatchNormal  (None, 28, 28, 128)  512        ['conv3_block1_0_conv[0][0]']    \n",
            " ization)                                                                                         \n",
            "                                                                                                  \n",
            " conv3_block1_3_bn (BatchNormal  (None, 28, 28, 128)  512        ['conv3_block1_2_conv[0][0]']    \n",
            " ization)                                                                                         \n",
            "                                                                                                  \n",
            " conv3_block1_add (Add)         (None, 28, 28, 128)  0           ['conv3_block1_0_bn[0][0]',      \n",
            "                                                                  'conv3_block1_3_bn[0][0]']      \n",
            "                                                                                                  \n",
            " conv3_block2_1_bn (BatchNormal  (None, 28, 28, 128)  512        ['conv3_block1_add[0][0]']       \n",
            " ization)                                                                                         \n",
            "                                                                                                  \n",
            " conv3_block2_1_pad (ZeroPaddin  (None, 30, 30, 128)  0          ['conv3_block2_1_bn[0][0]']      \n",
            " g2D)                                                                                             \n",
            "                                                                                                  \n",
            " conv3_block2_1_conv (Conv2D)   (None, 28, 28, 128)  147456      ['conv3_block2_1_pad[0][0]']     \n",
            "                                                                                                  \n",
            " conv3_block2_2_bn (BatchNormal  (None, 28, 28, 128)  512        ['conv3_block2_1_conv[0][0]']    \n",
            " ization)                                                                                         \n",
            "                                                                                                  \n",
            " conv3_block2_1_prelu (PReLU)   (None, 28, 28, 128)  128         ['conv3_block2_2_bn[0][0]']      \n",
            "                                                                                                  \n",
            " conv3_block2_2_pad (ZeroPaddin  (None, 30, 30, 128)  0          ['conv3_block2_1_prelu[0][0]']   \n",
            " g2D)                                                                                             \n",
            "                                                                                                  \n",
            " conv3_block2_2_conv (Conv2D)   (None, 28, 28, 128)  147456      ['conv3_block2_2_pad[0][0]']     \n",
            "                                                                                                  \n",
            " conv3_block2_3_bn (BatchNormal  (None, 28, 28, 128)  512        ['conv3_block2_2_conv[0][0]']    \n",
            " ization)                                                                                         \n",
            "                                                                                                  \n",
            " conv3_block2_add (Add)         (None, 28, 28, 128)  0           ['conv3_block1_add[0][0]',       \n",
            "                                                                  'conv3_block2_3_bn[0][0]']      \n",
            "                                                                                                  \n",
            " conv3_block3_1_bn (BatchNormal  (None, 28, 28, 128)  512        ['conv3_block2_add[0][0]']       \n",
            " ization)                                                                                         \n",
            "                                                                                                  \n",
            " conv3_block3_1_pad (ZeroPaddin  (None, 30, 30, 128)  0          ['conv3_block3_1_bn[0][0]']      \n",
            " g2D)                                                                                             \n",
            "                                                                                                  \n",
            " conv3_block3_1_conv (Conv2D)   (None, 28, 28, 128)  147456      ['conv3_block3_1_pad[0][0]']     \n",
            "                                                                                                  \n",
            " conv3_block3_2_bn (BatchNormal  (None, 28, 28, 128)  512        ['conv3_block3_1_conv[0][0]']    \n",
            " ization)                                                                                         \n",
            "                                                                                                  \n",
            " conv3_block3_1_prelu (PReLU)   (None, 28, 28, 128)  128         ['conv3_block3_2_bn[0][0]']      \n",
            "                                                                                                  \n",
            " conv3_block3_2_pad (ZeroPaddin  (None, 30, 30, 128)  0          ['conv3_block3_1_prelu[0][0]']   \n",
            " g2D)                                                                                             \n",
            "                                                                                                  \n",
            " conv3_block3_2_conv (Conv2D)   (None, 28, 28, 128)  147456      ['conv3_block3_2_pad[0][0]']     \n",
            "                                                                                                  \n",
            " conv3_block3_3_bn (BatchNormal  (None, 28, 28, 128)  512        ['conv3_block3_2_conv[0][0]']    \n",
            " ization)                                                                                         \n",
            "                                                                                                  \n",
            " conv3_block3_add (Add)         (None, 28, 28, 128)  0           ['conv3_block2_add[0][0]',       \n",
            "                                                                  'conv3_block3_3_bn[0][0]']      \n",
            "                                                                                                  \n",
            " conv3_block4_1_bn (BatchNormal  (None, 28, 28, 128)  512        ['conv3_block3_add[0][0]']       \n",
            " ization)                                                                                         \n",
            "                                                                                                  \n",
            " conv3_block4_1_pad (ZeroPaddin  (None, 30, 30, 128)  0          ['conv3_block4_1_bn[0][0]']      \n",
            " g2D)                                                                                             \n",
            "                                                                                                  \n",
            " conv3_block4_1_conv (Conv2D)   (None, 28, 28, 128)  147456      ['conv3_block4_1_pad[0][0]']     \n",
            "                                                                                                  \n",
            " conv3_block4_2_bn (BatchNormal  (None, 28, 28, 128)  512        ['conv3_block4_1_conv[0][0]']    \n",
            " ization)                                                                                         \n",
            "                                                                                                  \n",
            " conv3_block4_1_prelu (PReLU)   (None, 28, 28, 128)  128         ['conv3_block4_2_bn[0][0]']      \n",
            "                                                                                                  \n",
            " conv3_block4_2_pad (ZeroPaddin  (None, 30, 30, 128)  0          ['conv3_block4_1_prelu[0][0]']   \n",
            " g2D)                                                                                             \n",
            "                                                                                                  \n",
            " conv3_block4_2_conv (Conv2D)   (None, 28, 28, 128)  147456      ['conv3_block4_2_pad[0][0]']     \n",
            "                                                                                                  \n",
            " conv3_block4_3_bn (BatchNormal  (None, 28, 28, 128)  512        ['conv3_block4_2_conv[0][0]']    \n",
            " ization)                                                                                         \n",
            "                                                                                                  \n",
            " conv3_block4_add (Add)         (None, 28, 28, 128)  0           ['conv3_block3_add[0][0]',       \n",
            "                                                                  'conv3_block4_3_bn[0][0]']      \n",
            "                                                                                                  \n",
            " conv4_block1_1_bn (BatchNormal  (None, 28, 28, 128)  512        ['conv3_block4_add[0][0]']       \n",
            " ization)                                                                                         \n",
            "                                                                                                  \n",
            " conv4_block1_1_pad (ZeroPaddin  (None, 30, 30, 128)  0          ['conv4_block1_1_bn[0][0]']      \n",
            " g2D)                                                                                             \n",
            "                                                                                                  \n",
            " conv4_block1_1_conv (Conv2D)   (None, 28, 28, 256)  294912      ['conv4_block1_1_pad[0][0]']     \n",
            "                                                                                                  \n",
            " conv4_block1_2_bn (BatchNormal  (None, 28, 28, 256)  1024       ['conv4_block1_1_conv[0][0]']    \n",
            " ization)                                                                                         \n",
            "                                                                                                  \n",
            " conv4_block1_1_prelu (PReLU)   (None, 28, 28, 256)  256         ['conv4_block1_2_bn[0][0]']      \n",
            "                                                                                                  \n",
            " conv4_block1_2_pad (ZeroPaddin  (None, 30, 30, 256)  0          ['conv4_block1_1_prelu[0][0]']   \n",
            " g2D)                                                                                             \n",
            "                                                                                                  \n",
            " conv4_block1_0_conv (Conv2D)   (None, 14, 14, 256)  32768       ['conv3_block4_add[0][0]']       \n",
            "                                                                                                  \n",
            " conv4_block1_2_conv (Conv2D)   (None, 14, 14, 256)  589824      ['conv4_block1_2_pad[0][0]']     \n",
            "                                                                                                  \n",
            " conv4_block1_0_bn (BatchNormal  (None, 14, 14, 256)  1024       ['conv4_block1_0_conv[0][0]']    \n",
            " ization)                                                                                         \n",
            "                                                                                                  \n",
            " conv4_block1_3_bn (BatchNormal  (None, 14, 14, 256)  1024       ['conv4_block1_2_conv[0][0]']    \n",
            " ization)                                                                                         \n",
            "                                                                                                  \n",
            " conv4_block1_add (Add)         (None, 14, 14, 256)  0           ['conv4_block1_0_bn[0][0]',      \n",
            "                                                                  'conv4_block1_3_bn[0][0]']      \n",
            "                                                                                                  \n",
            " conv4_block2_1_bn (BatchNormal  (None, 14, 14, 256)  1024       ['conv4_block1_add[0][0]']       \n",
            " ization)                                                                                         \n",
            "                                                                                                  \n",
            " conv4_block2_1_pad (ZeroPaddin  (None, 16, 16, 256)  0          ['conv4_block2_1_bn[0][0]']      \n",
            " g2D)                                                                                             \n",
            "                                                                                                  \n",
            " conv4_block2_1_conv (Conv2D)   (None, 14, 14, 256)  589824      ['conv4_block2_1_pad[0][0]']     \n",
            "                                                                                                  \n",
            " conv4_block2_2_bn (BatchNormal  (None, 14, 14, 256)  1024       ['conv4_block2_1_conv[0][0]']    \n",
            " ization)                                                                                         \n",
            "                                                                                                  \n",
            " conv4_block2_1_prelu (PReLU)   (None, 14, 14, 256)  256         ['conv4_block2_2_bn[0][0]']      \n",
            "                                                                                                  \n",
            " conv4_block2_2_pad (ZeroPaddin  (None, 16, 16, 256)  0          ['conv4_block2_1_prelu[0][0]']   \n",
            " g2D)                                                                                             \n",
            "                                                                                                  \n",
            " conv4_block2_2_conv (Conv2D)   (None, 14, 14, 256)  589824      ['conv4_block2_2_pad[0][0]']     \n",
            "                                                                                                  \n",
            " conv4_block2_3_bn (BatchNormal  (None, 14, 14, 256)  1024       ['conv4_block2_2_conv[0][0]']    \n",
            " ization)                                                                                         \n",
            "                                                                                                  \n",
            " conv4_block2_add (Add)         (None, 14, 14, 256)  0           ['conv4_block1_add[0][0]',       \n",
            "                                                                  'conv4_block2_3_bn[0][0]']      \n",
            "                                                                                                  \n",
            " conv4_block3_1_bn (BatchNormal  (None, 14, 14, 256)  1024       ['conv4_block2_add[0][0]']       \n",
            " ization)                                                                                         \n",
            "                                                                                                  \n",
            " conv4_block3_1_pad (ZeroPaddin  (None, 16, 16, 256)  0          ['conv4_block3_1_bn[0][0]']      \n",
            " g2D)                                                                                             \n",
            "                                                                                                  \n",
            " conv4_block3_1_conv (Conv2D)   (None, 14, 14, 256)  589824      ['conv4_block3_1_pad[0][0]']     \n",
            "                                                                                                  \n",
            " conv4_block3_2_bn (BatchNormal  (None, 14, 14, 256)  1024       ['conv4_block3_1_conv[0][0]']    \n",
            " ization)                                                                                         \n",
            "                                                                                                  \n",
            " conv4_block3_1_prelu (PReLU)   (None, 14, 14, 256)  256         ['conv4_block3_2_bn[0][0]']      \n",
            "                                                                                                  \n",
            " conv4_block3_2_pad (ZeroPaddin  (None, 16, 16, 256)  0          ['conv4_block3_1_prelu[0][0]']   \n",
            " g2D)                                                                                             \n",
            "                                                                                                  \n",
            " conv4_block3_2_conv (Conv2D)   (None, 14, 14, 256)  589824      ['conv4_block3_2_pad[0][0]']     \n",
            "                                                                                                  \n",
            " conv4_block3_3_bn (BatchNormal  (None, 14, 14, 256)  1024       ['conv4_block3_2_conv[0][0]']    \n",
            " ization)                                                                                         \n",
            "                                                                                                  \n",
            " conv4_block3_add (Add)         (None, 14, 14, 256)  0           ['conv4_block2_add[0][0]',       \n",
            "                                                                  'conv4_block3_3_bn[0][0]']      \n",
            "                                                                                                  \n",
            " conv4_block4_1_bn (BatchNormal  (None, 14, 14, 256)  1024       ['conv4_block3_add[0][0]']       \n",
            " ization)                                                                                         \n",
            "                                                                                                  \n",
            " conv4_block4_1_pad (ZeroPaddin  (None, 16, 16, 256)  0          ['conv4_block4_1_bn[0][0]']      \n",
            " g2D)                                                                                             \n",
            "                                                                                                  \n",
            " conv4_block4_1_conv (Conv2D)   (None, 14, 14, 256)  589824      ['conv4_block4_1_pad[0][0]']     \n",
            "                                                                                                  \n",
            " conv4_block4_2_bn (BatchNormal  (None, 14, 14, 256)  1024       ['conv4_block4_1_conv[0][0]']    \n",
            " ization)                                                                                         \n",
            "                                                                                                  \n",
            " conv4_block4_1_prelu (PReLU)   (None, 14, 14, 256)  256         ['conv4_block4_2_bn[0][0]']      \n",
            "                                                                                                  \n",
            " conv4_block4_2_pad (ZeroPaddin  (None, 16, 16, 256)  0          ['conv4_block4_1_prelu[0][0]']   \n",
            " g2D)                                                                                             \n",
            "                                                                                                  \n",
            " conv4_block4_2_conv (Conv2D)   (None, 14, 14, 256)  589824      ['conv4_block4_2_pad[0][0]']     \n",
            "                                                                                                  \n",
            " conv4_block4_3_bn (BatchNormal  (None, 14, 14, 256)  1024       ['conv4_block4_2_conv[0][0]']    \n",
            " ization)                                                                                         \n",
            "                                                                                                  \n",
            " conv4_block4_add (Add)         (None, 14, 14, 256)  0           ['conv4_block3_add[0][0]',       \n",
            "                                                                  'conv4_block4_3_bn[0][0]']      \n",
            "                                                                                                  \n",
            " conv4_block5_1_bn (BatchNormal  (None, 14, 14, 256)  1024       ['conv4_block4_add[0][0]']       \n",
            " ization)                                                                                         \n",
            "                                                                                                  \n",
            " conv4_block5_1_pad (ZeroPaddin  (None, 16, 16, 256)  0          ['conv4_block5_1_bn[0][0]']      \n",
            " g2D)                                                                                             \n",
            "                                                                                                  \n",
            " conv4_block5_1_conv (Conv2D)   (None, 14, 14, 256)  589824      ['conv4_block5_1_pad[0][0]']     \n",
            "                                                                                                  \n",
            " conv4_block5_2_bn (BatchNormal  (None, 14, 14, 256)  1024       ['conv4_block5_1_conv[0][0]']    \n",
            " ization)                                                                                         \n",
            "                                                                                                  \n",
            " conv4_block5_1_prelu (PReLU)   (None, 14, 14, 256)  256         ['conv4_block5_2_bn[0][0]']      \n",
            "                                                                                                  \n",
            " conv4_block5_2_pad (ZeroPaddin  (None, 16, 16, 256)  0          ['conv4_block5_1_prelu[0][0]']   \n",
            " g2D)                                                                                             \n",
            "                                                                                                  \n",
            " conv4_block5_2_conv (Conv2D)   (None, 14, 14, 256)  589824      ['conv4_block5_2_pad[0][0]']     \n",
            "                                                                                                  \n",
            " conv4_block5_3_bn (BatchNormal  (None, 14, 14, 256)  1024       ['conv4_block5_2_conv[0][0]']    \n",
            " ization)                                                                                         \n",
            "                                                                                                  \n",
            " conv4_block5_add (Add)         (None, 14, 14, 256)  0           ['conv4_block4_add[0][0]',       \n",
            "                                                                  'conv4_block5_3_bn[0][0]']      \n",
            "                                                                                                  \n",
            " conv4_block6_1_bn (BatchNormal  (None, 14, 14, 256)  1024       ['conv4_block5_add[0][0]']       \n",
            " ization)                                                                                         \n",
            "                                                                                                  \n",
            " conv4_block6_1_pad (ZeroPaddin  (None, 16, 16, 256)  0          ['conv4_block6_1_bn[0][0]']      \n",
            " g2D)                                                                                             \n",
            "                                                                                                  \n",
            " conv4_block6_1_conv (Conv2D)   (None, 14, 14, 256)  589824      ['conv4_block6_1_pad[0][0]']     \n",
            "                                                                                                  \n",
            " conv4_block6_2_bn (BatchNormal  (None, 14, 14, 256)  1024       ['conv4_block6_1_conv[0][0]']    \n",
            " ization)                                                                                         \n",
            "                                                                                                  \n",
            " conv4_block6_1_prelu (PReLU)   (None, 14, 14, 256)  256         ['conv4_block6_2_bn[0][0]']      \n",
            "                                                                                                  \n",
            " conv4_block6_2_pad (ZeroPaddin  (None, 16, 16, 256)  0          ['conv4_block6_1_prelu[0][0]']   \n",
            " g2D)                                                                                             \n",
            "                                                                                                  \n",
            " conv4_block6_2_conv (Conv2D)   (None, 14, 14, 256)  589824      ['conv4_block6_2_pad[0][0]']     \n",
            "                                                                                                  \n",
            " conv4_block6_3_bn (BatchNormal  (None, 14, 14, 256)  1024       ['conv4_block6_2_conv[0][0]']    \n",
            " ization)                                                                                         \n",
            "                                                                                                  \n",
            " conv4_block6_add (Add)         (None, 14, 14, 256)  0           ['conv4_block5_add[0][0]',       \n",
            "                                                                  'conv4_block6_3_bn[0][0]']      \n",
            "                                                                                                  \n",
            " conv5_block1_1_bn (BatchNormal  (None, 14, 14, 256)  1024       ['conv4_block6_add[0][0]']       \n",
            " ization)                                                                                         \n",
            "                                                                                                  \n",
            " conv5_block1_1_pad (ZeroPaddin  (None, 16, 16, 256)  0          ['conv5_block1_1_bn[0][0]']      \n",
            " g2D)                                                                                             \n",
            "                                                                                                  \n",
            " conv5_block1_1_conv (Conv2D)   (None, 14, 14, 512)  1179648     ['conv5_block1_1_pad[0][0]']     \n",
            "                                                                                                  \n",
            " conv5_block1_2_bn (BatchNormal  (None, 14, 14, 512)  2048       ['conv5_block1_1_conv[0][0]']    \n",
            " ization)                                                                                         \n",
            "                                                                                                  \n",
            " conv5_block1_1_prelu (PReLU)   (None, 14, 14, 512)  512         ['conv5_block1_2_bn[0][0]']      \n",
            "                                                                                                  \n",
            " conv5_block1_2_pad (ZeroPaddin  (None, 16, 16, 512)  0          ['conv5_block1_1_prelu[0][0]']   \n",
            " g2D)                                                                                             \n",
            "                                                                                                  \n",
            " conv5_block1_0_conv (Conv2D)   (None, 7, 7, 512)    131072      ['conv4_block6_add[0][0]']       \n",
            "                                                                                                  \n",
            " conv5_block1_2_conv (Conv2D)   (None, 7, 7, 512)    2359296     ['conv5_block1_2_pad[0][0]']     \n",
            "                                                                                                  \n",
            " conv5_block1_0_bn (BatchNormal  (None, 7, 7, 512)   2048        ['conv5_block1_0_conv[0][0]']    \n",
            " ization)                                                                                         \n",
            "                                                                                                  \n",
            " conv5_block1_3_bn (BatchNormal  (None, 7, 7, 512)   2048        ['conv5_block1_2_conv[0][0]']    \n",
            " ization)                                                                                         \n",
            "                                                                                                  \n",
            " conv5_block1_add (Add)         (None, 7, 7, 512)    0           ['conv5_block1_0_bn[0][0]',      \n",
            "                                                                  'conv5_block1_3_bn[0][0]']      \n",
            "                                                                                                  \n",
            " conv5_block2_1_bn (BatchNormal  (None, 7, 7, 512)   2048        ['conv5_block1_add[0][0]']       \n",
            " ization)                                                                                         \n",
            "                                                                                                  \n",
            " conv5_block2_1_pad (ZeroPaddin  (None, 9, 9, 512)   0           ['conv5_block2_1_bn[0][0]']      \n",
            " g2D)                                                                                             \n",
            "                                                                                                  \n",
            " conv5_block2_1_conv (Conv2D)   (None, 7, 7, 512)    2359296     ['conv5_block2_1_pad[0][0]']     \n",
            "                                                                                                  \n",
            " conv5_block2_2_bn (BatchNormal  (None, 7, 7, 512)   2048        ['conv5_block2_1_conv[0][0]']    \n",
            " ization)                                                                                         \n",
            "                                                                                                  \n",
            " conv5_block2_1_prelu (PReLU)   (None, 7, 7, 512)    512         ['conv5_block2_2_bn[0][0]']      \n",
            "                                                                                                  \n",
            " conv5_block2_2_pad (ZeroPaddin  (None, 9, 9, 512)   0           ['conv5_block2_1_prelu[0][0]']   \n",
            " g2D)                                                                                             \n",
            "                                                                                                  \n",
            " conv5_block2_2_conv (Conv2D)   (None, 7, 7, 512)    2359296     ['conv5_block2_2_pad[0][0]']     \n",
            "                                                                                                  \n",
            " conv5_block2_3_bn (BatchNormal  (None, 7, 7, 512)   2048        ['conv5_block2_2_conv[0][0]']    \n",
            " ization)                                                                                         \n",
            "                                                                                                  \n",
            " conv5_block2_add (Add)         (None, 7, 7, 512)    0           ['conv5_block1_add[0][0]',       \n",
            "                                                                  'conv5_block2_3_bn[0][0]']      \n",
            "                                                                                                  \n",
            " conv5_block3_1_bn (BatchNormal  (None, 7, 7, 512)   2048        ['conv5_block2_add[0][0]']       \n",
            " ization)                                                                                         \n",
            "                                                                                                  \n",
            " conv5_block3_1_pad (ZeroPaddin  (None, 9, 9, 512)   0           ['conv5_block3_1_bn[0][0]']      \n",
            " g2D)                                                                                             \n",
            "                                                                                                  \n",
            " conv5_block3_1_conv (Conv2D)   (None, 7, 7, 512)    2359296     ['conv5_block3_1_pad[0][0]']     \n",
            "                                                                                                  \n",
            " conv5_block3_2_bn (BatchNormal  (None, 7, 7, 512)   2048        ['conv5_block3_1_conv[0][0]']    \n",
            " ization)                                                                                         \n",
            "                                                                                                  \n",
            " conv5_block3_1_prelu (PReLU)   (None, 7, 7, 512)    512         ['conv5_block3_2_bn[0][0]']      \n",
            "                                                                                                  \n",
            " conv5_block3_2_pad (ZeroPaddin  (None, 9, 9, 512)   0           ['conv5_block3_1_prelu[0][0]']   \n",
            " g2D)                                                                                             \n",
            "                                                                                                  \n",
            " conv5_block3_2_conv (Conv2D)   (None, 7, 7, 512)    2359296     ['conv5_block3_2_pad[0][0]']     \n",
            "                                                                                                  \n",
            " conv5_block3_3_bn (BatchNormal  (None, 7, 7, 512)   2048        ['conv5_block3_2_conv[0][0]']    \n",
            " ization)                                                                                         \n",
            "                                                                                                  \n",
            " conv5_block3_add (Add)         (None, 7, 7, 512)    0           ['conv5_block2_add[0][0]',       \n",
            "                                                                  'conv5_block3_3_bn[0][0]']      \n",
            "                                                                                                  \n",
            " batch_normalization (BatchNorm  (None, 7, 7, 512)   2048        ['conv5_block3_add[0][0]']       \n",
            " alization)                                                                                       \n",
            "                                                                                                  \n",
            " dropout (Dropout)              (None, 7, 7, 512)    0           ['batch_normalization[0][0]']    \n",
            "                                                                                                  \n",
            " flatten (Flatten)              (None, 25088)        0           ['dropout[0][0]']                \n",
            "                                                                                                  \n",
            " dense (Dense)                  (None, 512)          12845568    ['flatten[0][0]']                \n",
            "                                                                                                  \n",
            " embedding (BatchNormalization)  (None, 512)         2048        ['dense[0][0]']                  \n",
            "                                                                                                  \n",
            "==================================================================================================\n",
            "Total params: 34,165,184\n",
            "Trainable params: 34,139,328\n",
            "Non-trainable params: 25,856\n",
            "__________________________________________________________________________________________________\n"
          ]
        }
      ]
    },
    {
      "cell_type": "markdown",
      "source": [
        "##Testset-preprocessing"
      ],
      "metadata": {
        "id": "nEB2GPvuH8HQ"
      }
    },
    {
      "cell_type": "markdown",
      "source": [
        "###Cosine distance"
      ],
      "metadata": {
        "id": "lnZ-RRT-WM8E"
      }
    },
    {
      "cell_type": "code",
      "source": [
        "#flag == 1: same person\n",
        "#flag == 0: different person\n",
        "#flag == 0.5: using LBP to recognize person\n",
        "\n",
        "def findCosineDistance(source_representation, test_representation):\n",
        "    flag = 0\n",
        "    a = np.matmul(np.transpose(source_representation), test_representation)\n",
        "    b = np.sum(np.multiply(source_representation, source_representation))\n",
        "    c = np.sum(np.multiply(test_representation, test_representation))\n",
        "    dist = 1 - (a / (np.sqrt(b) * np.sqrt(c)))\n",
        "    # print(\"cosine similarity: \", dist)\n",
        "    #similarity threshold\n",
        "    if dist >= 0 and dist < 0.3: flag = 1\n",
        "    elif dist >= 0.3 and dist < 0.7: flag = 0.5\n",
        "    else: flag = 0\n",
        "    return flag\n",
        "\n",
        "def findCosine_lite(a, b):\n",
        "  a = np.array(a)\n",
        "  b = np.array(b)\n",
        "  dist = 1 - np.dot(a, b)\n",
        "  return dist"
      ],
      "metadata": {
        "id": "43QN19E4WMir"
      },
      "execution_count": null,
      "outputs": []
    },
    {
      "cell_type": "markdown",
      "source": [
        "###Loading image"
      ],
      "metadata": {
        "id": "HNBS4YoBZU5U"
      }
    },
    {
      "cell_type": "code",
      "source": [
        "import os\n",
        "import numpy as np\n",
        "import pandas as pd\n",
        "import cv2\n",
        "import base64\n",
        "from pathlib import Path\n",
        "from PIL import Image\n",
        "import requests\n",
        "from tensorflow import keras\n",
        "from tensorflow.keras.preprocessing.image import load_img, save_img, img_to_array\n",
        "from tensorflow.keras.applications.imagenet_utils import preprocess_input\n",
        "from tensorflow.keras.preprocessing import image as img_process\n",
        "\n",
        "def load_image(img):\n",
        "\texact_image = False; base64_img = False; url_img = False\n",
        "\n",
        "\tif type(img).__module__ == np.__name__:\n",
        "\t\texact_image = True\n",
        "\n",
        "\telif len(img) > 11 and img[0:11] == \"data:image/\":\n",
        "\t\tbase64_img = True\n",
        "\n",
        "\telif len(img) > 11 and img.startswith(\"http\"):\n",
        "\t\turl_img = True\n",
        "\n",
        "\t#---------------------------\n",
        "\n",
        "\tif base64_img == True:\n",
        "\t\timg = loadBase64Img(img)\n",
        "\n",
        "\telif url_img:\n",
        "\t\timg = np.array(Image.open(requests.get(img, stream=True).raw).convert('RGB'))\n",
        "\n",
        "\telif exact_image != True: #image path passed as input\n",
        "\t\tif os.path.isfile(img) != True:\n",
        "\t\t\traise ValueError(\"Confirm that \",img,\" exists\")\n",
        "\n",
        "\t\timg = cv2.imread(img)\n",
        "\n",
        "\treturn img\n",
        "\n",
        "\n",
        "def preprocess_img(img, target_size=(112, 112), \n",
        "                   grayscale=False,\n",
        "                   enforce_detection=True,\n",
        "                   detector_backend='retinaface',\n",
        "                   return_region=False,\n",
        "                   align=True):\n",
        "  img = load_image(img)\n",
        "  base_img = img.copy()\n",
        "\n",
        "  # img, region = detect_face(img = img,\n",
        "  #                           detector_backend = detector_backend, \n",
        "  #                           grayscale = grayscale, \n",
        "  #                           enforce_detection = enforce_detection, \n",
        "  #                           align = align)\n",
        "\n",
        "\t#--------------------------\n",
        "\n",
        "  if img.shape[0] == 0 or img.shape[1] == 0:\n",
        "    if enforce_detection == True:\n",
        "      raise ValueError(\"Detected face shape is \", img.shape,\n",
        "                    \". Consider to set enforce_detection argument to False.\")\n",
        "    else: #restore base image\n",
        "      img = base_img.copy()\n",
        "#---------------------------------------------------------------\n",
        "\n",
        "  #extract face from images\n",
        "  (h, w) = img.shape[:2]\n",
        "  blob = cv2.dnn.blobFromImage(cv2.resize(img, (112, 112)), 1.0, (112, 112), (104.0, 177.0, 123.0))\n",
        "  protopath = \"/content/Create-Face-Data-from-Images/model_data/deploy.prototxt\"\n",
        "  weightpath = \"/content/Create-Face-Data-from-Images/model_data/weights.caffemodel\"\n",
        "  model = cv2.dnn.readNetFromCaffe(protopath, weightpath)\n",
        "\n",
        "  model.setInput(blob)\n",
        "  detections = model.forward()\n",
        "  \n",
        "  for i in range(0, detections.shape[2]):\n",
        "    box = detections[0, 0, i, 3:7] * np.array([w, h, w, h])\n",
        "    (startX, startY, endX, endY) = box.astype(\"int\")\n",
        "\n",
        "    confidence = detections[0, 0, i, 2]\n",
        "\n",
        "    # If confidence > 0.5, show box around face\n",
        "    if (confidence > 0.5):\n",
        "      cv2.rectangle(img, (startX, startY), (endX, endY), (255, 255, 255), 2)\n",
        "\n",
        "  for i in range(0, detections.shape[2]):\n",
        "    box = detections[0, 0, i, 3:7] * np.array([w, h, w, h])\n",
        "    (startX, startY, endX, endY) = box.astype(\"int\")\n",
        "\n",
        "    confidence = detections[0, 0, i, 2]\n",
        "\n",
        "    # If confidence > 0.5, save it as a separate file\n",
        "    if (confidence > 0.5):\n",
        "      img = img[startY:endY, startX:endX]\n",
        "  frame = img.copy()\n",
        "\t#--------------------------\n",
        "\n",
        "\t#post-processing\n",
        "  if grayscale == True:\n",
        "    img = cv2.cvtColor(img, cv2.COLOR_BGR2GRAY)\n",
        "\n",
        "\t#---------------------------------------------------\n",
        "\t#resize image to expected shape\n",
        "\n",
        "\n",
        "  if img.shape[0] > 0 and img.shape[1] > 0:\n",
        "    factor_0 = target_size[0] / img.shape[0]\n",
        "    factor_1 = target_size[1] / img.shape[1]\n",
        "    factor = min(factor_0, factor_1)\n",
        "\n",
        "    dsize = (int(img.shape[1] * factor), int(img.shape[0] * factor))\n",
        "    img = cv2.resize(img, dsize)\n",
        "\n",
        "    # Then pad the other side to the target size by adding black pixels\n",
        "    diff_0 = target_size[0] - img.shape[0]\n",
        "    diff_1 = target_size[1] - img.shape[1]\n",
        "    if grayscale == False:\n",
        "\t\t\t# Put the base image in the middle of the padded image\n",
        "      img = np.pad(img, ((diff_0 // 2, diff_0 - diff_0 // 2), \n",
        "                      (diff_1 // 2, diff_1 - diff_1 // 2), (0, 0)), 'constant')\n",
        "    else:\n",
        "      img = np.pad(img, ((diff_0 // 2, diff_0 - diff_0 // 2), \n",
        "                      (diff_1 // 2, diff_1 - diff_1 // 2)), 'constant')\n",
        "\n",
        "\t#------------------------------------------\n",
        "\n",
        "\t#double check: if target image is not still the same size with target.\n",
        "  if img.shape[0:2] != target_size:\n",
        "    img = cv2.resize(img, target_size)\n",
        "\n",
        "\t#---------------------------------------------------\n",
        "\t#normalizing the image pixels\n",
        "\n",
        "  img_pixels = img_process.img_to_array(img) #what this line doing? must?\n",
        "  img_pixels = np.expand_dims(img_pixels, axis = 0)\n",
        "  img_pixels /= 255 #normalize input in [0, 1]\n",
        "\n",
        "\t#---------------------------------------------------\n",
        "\n",
        "\t# if return_region == True:\n",
        "\t# \treturn img_pixels, region\n",
        "\t# else:\n",
        "  return img_pixels, frame, base_img\n",
        "\n",
        "def forward_image(img_path):\n",
        "  \n",
        "  img = preprocess_img(img_path, target_size=(112, 112))\n",
        "  return img"
      ],
      "metadata": {
        "id": "jmpSA3kMnUn7"
      },
      "execution_count": null,
      "outputs": []
    },
    {
      "cell_type": "markdown",
      "source": [
        "Next: Create threshold Dmax = 0.35, if sim < Dmax => same person. If Dmax < sim < 0.7 => using LBP eyebrows. outside this bound will not be considered"
      ],
      "metadata": {
        "id": "L9nCijfJI3Na"
      }
    },
    {
      "cell_type": "markdown",
      "source": [
        "##**Test model with test images**"
      ],
      "metadata": {
        "id": "nLwIImZAZgz8"
      }
    },
    {
      "cell_type": "code",
      "source": [
        "# img1_path = \"/content/COMASK20/dataset/A_Testset/1/IMG_5288_120-with-mask.jpg\"\n",
        "# img2_path = \"/content/COMASK20/dataset/A_Testset/10/Screenshot from 2020-07-09 11-10-06_nomask.png\"\n"
      ],
      "metadata": {
        "id": "M5p-gQb1Lmxh"
      },
      "execution_count": null,
      "outputs": []
    },
    {
      "cell_type": "markdown",
      "source": [
        "#####test load images with ImageDataGenerator()"
      ],
      "metadata": {
        "id": "cc5eaumCJBd9"
      }
    },
    {
      "cell_type": "code",
      "source": [
        "# from tensorflow.keras.preprocessing.image import ImageDataGenerator\n",
        "\n",
        "# datagen = ImageDataGenerator(rescale=1.0/255.0)\n",
        "# test_data = datagen.flow_from_directory('/content/', target_size=(112,112))\n",
        "# img_embedding = model.predict(test_data)\n",
        "# img_embedding.shape"
      ],
      "metadata": {
        "id": "ThyVcGg4IffV"
      },
      "execution_count": null,
      "outputs": []
    },
    {
      "cell_type": "code",
      "source": [
        "# img1_embedding = model.predict(forward_image(img1_path))[0]\n",
        "# img2_embedding = model.predict(forward_image(img2_path))[0]"
      ],
      "metadata": {
        "id": "JCw16petQf6F"
      },
      "execution_count": null,
      "outputs": []
    },
    {
      "cell_type": "code",
      "source": [
        "# sim = findCosineDistance(img1_embedding, img2_embedding)\n",
        "# sim"
      ],
      "metadata": {
        "id": "Hp2DGXaNm_cU"
      },
      "execution_count": null,
      "outputs": []
    },
    {
      "cell_type": "markdown",
      "source": [
        "####Plot images and do verifying task"
      ],
      "metadata": {
        "id": "TmpIu01aPwvW"
      }
    },
    {
      "cell_type": "code",
      "source": [
        "def plot_images(img1, img2, sentence=str):\n",
        "  import matplotlib.pyplot as plt\n",
        "  # img1 = plt.imread(img1_path)\n",
        "  # img2 = plt.imread(img2_path)\n",
        "  fig = plt.figure(figsize=(5, 5))\n",
        "  rows = 2\n",
        "  columns = 2\n",
        "  \n",
        "  fig.add_subplot(rows, columns, 1)\n",
        "\n",
        "  # showing image\n",
        "  plt.imshow(cv2.cvtColor(img1, cv2.COLOR_BGR2RGB))\n",
        "  plt.axis('off')\n",
        "  plt.title(sentence)\n",
        "    \n",
        "  # Adds a subplot at the 2nd position\n",
        "  fig.add_subplot(rows, columns, 2)\n",
        "    \n",
        "  # showing image\n",
        "  plt.imshow(cv2.cvtColor(img2, cv2.COLOR_BGR2RGB))\n",
        "  plt.axis('off')\n",
        "  # plt.title(\"Second\")\n",
        "  # Verify person with Cosine distance\n",
        "  # dist_emb = findCosineDistance(img1_embedding, img2_embedding)\n",
        "  "
      ],
      "metadata": {
        "id": "PHXygb3iQDoj"
      },
      "execution_count": null,
      "outputs": []
    },
    {
      "cell_type": "markdown",
      "source": [
        "------------------------------------------------------------------------"
      ],
      "metadata": {
        "id": "7PMvZGABHKzg"
      }
    },
    {
      "cell_type": "markdown",
      "source": [
        "_____________________________________________________________________________"
      ],
      "metadata": {
        "id": "BsyYc4LwP6lY"
      }
    },
    {
      "cell_type": "markdown",
      "source": [
        "##Local Binary Pattern"
      ],
      "metadata": {
        "id": "zqiz8Qox9Qfu"
      }
    },
    {
      "cell_type": "markdown",
      "source": [
        "###Calculate LBP and Encode Image into LBP"
      ],
      "metadata": {
        "id": "fA_MRsXI9WSk"
      }
    },
    {
      "cell_type": "code",
      "source": [
        "import cv2 \n",
        "import numpy as np \n",
        "\n",
        "def calculate_LBP(img):\n",
        "  # img = cv2.imread(img_path)\n",
        "  def assign_bit(image, x, y, c):   #comparing bit with threshold value of centre pixel\n",
        "      bit = 0  \n",
        "      try:          \n",
        "          if image[x][y] >= c: \n",
        "              bit = 1         \n",
        "      except: \n",
        "          pass\n",
        "      return bit \n",
        "  def local_bin_val(image, x, y):  #calculating local binary pattern value of a pixel\n",
        "      eight_bit_binary = []\n",
        "      centre = image[x][y] \n",
        "      powers = [1, 2, 4, 8, 16, 32, 64, 128] \n",
        "      decimal_val = 0\n",
        "      #starting from top right,assigning bit to pixels clockwise \n",
        "      eight_bit_binary.append(assign_bit(image, x-1, y + 1,centre)) \n",
        "      eight_bit_binary.append(assign_bit(image, x, y + 1, centre)) \n",
        "      eight_bit_binary.append(assign_bit(image, x + 1, y + 1, centre)) \n",
        "      eight_bit_binary.append(assign_bit(image, x + 1, y, centre)) \n",
        "      eight_bit_binary.append(assign_bit(image, x + 1, y-1, centre)) \n",
        "      eight_bit_binary.append(assign_bit(image, x, y-1, centre)) \n",
        "      eight_bit_binary.append(assign_bit(image, x-1, y-1, centre)) \n",
        "      eight_bit_binary.append(assign_bit(image, x-1, y, centre))     \n",
        "      #calculating decimal value of the 8-bit binary number\n",
        "      for i in range(len(eight_bit_binary)): \n",
        "          decimal_val += eight_bit_binary[i] * powers[i] \n",
        "            \n",
        "      return decimal_val \n",
        "  m, n, _ = img.shape \n",
        "  gray_scale = cv2.cvtColor(img, cv2.COLOR_BGR2GRAY)  #converting image to grayscale\n",
        "  lbp_img = np.zeros((m, n),np.uint8) \n",
        "  # converting image to lbp\n",
        "  for i in range(0,m): \n",
        "      for j in range(0,n): \n",
        "          lbp_img[i, j] = local_bin_val(gray_scale, i, j) \n",
        " \n",
        "  n_bins1 = int(lbp_img.max() + 1)\n",
        "  hist, _ = np.histogram(lbp_img, density=True, bins=n_bins1, range=(0, n_bins1))\n",
        "  return hist, lbp_img"
      ],
      "metadata": {
        "id": "-2cPPuRw9U39"
      },
      "execution_count": null,
      "outputs": []
    },
    {
      "cell_type": "markdown",
      "source": [
        "###Extract ROI using Dlib"
      ],
      "metadata": {
        "id": "bXXlaVV99gwZ"
      }
    },
    {
      "cell_type": "code",
      "source": [
        "!!git clone https://github.com/italojs/facial-landmarks-recognition"
      ],
      "metadata": {
        "id": "NB9Y8RCxApuo",
        "colab": {
          "base_uri": "https://localhost:8080/"
        },
        "outputId": "464c91b4-e390-4911-dec1-1c2a8a638660"
      },
      "execution_count": null,
      "outputs": [
        {
          "output_type": "execute_result",
          "data": {
            "text/plain": [
              "[\"fatal: destination path 'facial-landmarks-recognition' already exists and is not an empty directory.\"]"
            ]
          },
          "metadata": {},
          "execution_count": 15
        }
      ]
    },
    {
      "cell_type": "code",
      "source": [
        "import imutils\n",
        "from imutils import face_utils \n",
        "import dlib\n",
        "import matplotlib.pyplot as plt\n",
        "from collections import OrderedDict\n",
        "\n",
        "\n",
        "def extract_ROI(img):\n",
        "  face_detect = dlib.get_frontal_face_detector()\n",
        "  landmark_detect = dlib.shape_predictor(\"/content/facial-landmarks-recognition/shape_predictor_68_face_landmarks.dat\")\n",
        "\n",
        "\n",
        "  FACIAL_LANDMARKS_IDXS = OrderedDict([(\"right_eyebrow\", (17, 22)),\n",
        "                                        (\"left_eyebrow\", (22, 27)),\n",
        "                                        (\"right_eye\", (36, 42)),\n",
        "                                        (\"left_eye\", (42, 48))])\n",
        "\n",
        "  #-----------------------------------------------------------------------------#\n",
        "\n",
        "  # from google.colab.patches import cv2_imshow\n",
        "\n",
        "  roi_tuple = []\n",
        "  clone_tuple = []\n",
        "  face = face_detect(img, 1)\n",
        "  # gray = cv2.cvtColor(img1, cv2.COLOR_BGR2GRAY)\n",
        "  for (i, rect) in enumerate(face):\n",
        "    shape = landmark_detect(img, rect)\n",
        "    shape = face_utils.shape_to_np(shape) #convert landmark (x,y) to array\n",
        "\n",
        "    for (name, (i,j)) in FACIAL_LANDMARKS_IDXS.items():\n",
        "      img_clone = img.copy()\n",
        "      # cv2.putText(img_clone, name, (10, 30), cv2.FONT_HERSHEY_SIMPLEX,\n",
        "      #             0.7, (0, 0, 255), 2)\n",
        "      \n",
        "      for (x, y) in shape[i:j]:\n",
        "        cv2.circle(img_clone, (x, y), 3, (0, 255, 0), -1)\n",
        "      (x, y, w, h) = cv2.boundingRect(np.array([shape[i:j]]))\n",
        "      roi = img[y:y + h, x:x + w]\n",
        "      roi = imutils.resize(roi, width=250, inter=cv2.INTER_CUBIC)\n",
        "      roi_tuple.append(roi)\n",
        "      clone_tuple.append(img_clone)\n",
        "\n",
        "  ################################################################################\n",
        "  #extract eye, eyebrow area histogram in LBP format\n",
        "  if len(roi_tuple) != 0:\n",
        "    hist0, img_lbp0 = calculate_LBP(roi_tuple[0])\n",
        "    hist1, img_lbp1 = calculate_LBP(roi_tuple[1])\n",
        "    hist2, img_lbp2 = calculate_LBP(roi_tuple[2])\n",
        "    hist3, img_lbp3 = calculate_LBP(roi_tuple[3])\n",
        "\n",
        "    #convert histogram in list \n",
        "    hist0 = list(hist0)\n",
        "    hist1 = list(hist1)\n",
        "    hist2 = list(hist2)\n",
        "    hist3 = list(hist3)\n",
        "\n",
        "    #concatenate histograms into a histogram\n",
        "    hist = hist0 + hist1 + hist2 + hist3\n",
        "\n",
        "  else: hist, img_lbp = calculate_LBP(img)\n",
        "  \n",
        "  return hist\n"
      ],
      "metadata": {
        "id": "JK6OlnGh9nBL"
      },
      "execution_count": null,
      "outputs": []
    },
    {
      "cell_type": "markdown",
      "source": [
        "##Test Algorithm with COMASK dataset"
      ],
      "metadata": {
        "id": "LE4xjfzbMXTB"
      }
    },
    {
      "cell_type": "code",
      "source": [
        "dataset_path = \"/content/drive/MyDrive/Colab Notebooks/comask20_testset/A\""
      ],
      "metadata": {
        "id": "8dfmYJIgMWEB"
      },
      "execution_count": null,
      "outputs": []
    },
    {
      "cell_type": "markdown",
      "source": [
        "load dataset"
      ],
      "metadata": {
        "id": "aghskV38NJM9"
      }
    },
    {
      "cell_type": "code",
      "source": [
        "# from tensorflow.keras.preprocessing.image import ImageDataGenerator\n",
        "\n",
        "# datagen = ImageDataGenerator(rescale=1.0/255.0)\n",
        "# test_data = datagen.flow_from_directory('/content/COMASK20/dataset/A_Testset', target_size=(112,112))"
      ],
      "metadata": {
        "id": "31BpDkqfNIYn"
      },
      "execution_count": null,
      "outputs": []
    },
    {
      "cell_type": "code",
      "source": [
        "from imutils import paths\n",
        "import numpy as np\n",
        "import cv2\n",
        "import os\n",
        "\n",
        "# face_detect = dlib.get_frontal_face_detector()\n",
        "\n",
        "def load_face_dataset(inputPath, minConfidence=0.5,\n",
        "\tminSamples=1):\n",
        "\t# grab the paths to all images in our input directory, extract\n",
        "\t# the name of the person (i.e., class label) from the directory\n",
        "\t# structure, and count the number of example images we have per\n",
        "\t# face\n",
        "  imagePaths = list(paths.list_images(inputPath))\n",
        "  # print(imagePaths)\n",
        "  names = [p.split(os.path.sep)[-1] for p in imagePaths]\n",
        "  (names, counts) = np.unique(names, return_counts=True)\n",
        "  names = names.tolist()\n",
        "  \n",
        "  faces = [] \n",
        "  labels = []\n",
        "  frames = []\n",
        "  base_imgs = []\n",
        "  for imagepath in imagePaths:\n",
        "    image, frame, base_img = preprocess_img(imagepath, target_size=(112,112))\n",
        "    name = imagepath.split(os.path.sep)[-1]\n",
        "    # print(name)\n",
        "    if counts[names.index(name)] < minSamples:\n",
        "      continue\n",
        "    faces.append(image)\n",
        "    labels.append(name)\n",
        "    frames.append(frame)\n",
        "    base_imgs.append(base_img)\n",
        "\n",
        "  faces = np.array(faces)\n",
        "  labels= np.array(labels)\n",
        "\n",
        "  return faces, labels, frames, base_imgs"
      ],
      "metadata": {
        "id": "hOR6KeunW_4I"
      },
      "execution_count": null,
      "outputs": []
    },
    {
      "cell_type": "code",
      "source": [
        "faces, labels, frames, base_imgs = load_face_dataset(dataset_path)"
      ],
      "metadata": {
        "id": "yIqFAV_TeslI"
      },
      "execution_count": null,
      "outputs": []
    },
    {
      "cell_type": "code",
      "source": [
        "len(faces)"
      ],
      "metadata": {
        "colab": {
          "base_uri": "https://localhost:8080/"
        },
        "id": "RzTillynOmT3",
        "outputId": "9a01d70c-7929-4005-f7e8-b7fff09b38d0"
      },
      "execution_count": null,
      "outputs": [
        {
          "output_type": "execute_result",
          "data": {
            "text/plain": [
              "73"
            ]
          },
          "metadata": {},
          "execution_count": 22
        }
      ]
    },
    {
      "cell_type": "code",
      "source": [
        "for i in labels:\n",
        "  print(\"\\n\",i)"
      ],
      "metadata": {
        "colab": {
          "base_uri": "https://localhost:8080/"
        },
        "id": "3LQWPmC58YSI",
        "outputId": "6059cfb7-650e-466c-ade1-241ac46f6009"
      },
      "execution_count": null,
      "outputs": [
        {
          "output_type": "stream",
          "name": "stdout",
          "text": [
            "\n",
            " B18DCCN466-Nguyễn Thị Hồng Oanh-NoMask03.jpg\n",
            "\n",
            " B18DCCN466-Nguyễn Thị Hồng Oanh-NoMask02.jpg\n",
            "\n",
            " B18DCCN466-Nguyễn Thị Hồng Oanh-NoMask01.jpg\n",
            "\n",
            " B18DCCN466-Nguyễn Thị Hồng Oanh-Masked01.jpg\n",
            "\n",
            " B18DCCN466-Nguyễn Thị Hồng Oanh-Masked02.jpg\n",
            "\n",
            " B18DCAT018_NgoDucBinh-Masked03.jpg\n",
            "\n",
            " B18DCAT018_NgoDucBinh-Masked02.jpg\n",
            "\n",
            " B18DCAT018_NgoDucBinh-Masked01.jpg\n",
            "\n",
            " B18DCAT018_NgoDucBinh-NoMask03.jpg\n",
            "\n",
            " B18DCAT018_NgoDucBinh-NoMask02.jpg\n",
            "\n",
            " B18DCAT018_NgoDucBinh-NoMask01.jpg\n",
            "\n",
            " B18DCCN464-Trần Thị Thùy Nhung-NoMasked03.jpg\n",
            "\n",
            " B18DCCN464-Trần Thị Thùy Nhung-NoMasked01.jpg\n",
            "\n",
            " B18DCCN464-Trần Thị Thùy Nhung-Masked01.jpg\n",
            "\n",
            " B18DCAT009-Nguyễn Văn Đức Anh-Nomask03.jpg\n",
            "\n",
            " B18DCAT009-Nguyễn Văn Đức Anh-Masked02.jpg\n",
            "\n",
            " B18DCAT009-Nguyễn Văn Đức Anh-Nomask01.jpg\n",
            "\n",
            " B18DCAT009-Nguyễn Văn Đức Anh-Masked03.jpg\n",
            "\n",
            " B18DCAT009-Nguyễn Văn Đức Anh-Nomask02.jpg\n",
            "\n",
            " B18DCAT009-Nguyễn Văn Đức Anh-Masked01.jpg\n",
            "\n",
            " kt1.jpg\n",
            "\n",
            " B18DCCN525-Nguyễn Huy Tâm-Masked03(5).jpg\n",
            "\n",
            " B18DCAT111-Tran Duc Huy-NoMask03.jpg\n",
            "\n",
            " B18DCAT111-Tran Duc Huy-NoMask02.jpg\n",
            "\n",
            " B18DCAT111-Tran Duc Huy-NoMask01 (1).jpg\n",
            "\n",
            " B18DCAT111-Tran Duc Huy-Masked03.jpg\n",
            "\n",
            " B18DCAT111-Tran Duc Huy-Masked02.jpg\n",
            "\n",
            " B18DCAT111-Tran Duc Huy-Masked01.jpg\n",
            "\n",
            " B18DCAT110-NguyenQuangHuy-NoMasked01.jpg\n",
            "\n",
            " kt2.jpg\n",
            "\n",
            " B18DCCN524-NguyenDinhTai-Masked02.jpg\n",
            "\n",
            " B18DCAT110-NguyenQuangHuy-NoMasked03.jpg\n",
            "\n",
            " B18DCAT110-NguyenQuangHuy-Masked03.jpg\n",
            "\n",
            " B18DCAT110-NguyenQuangHuy-Masked02.jpg\n",
            "\n",
            " B18DCAT110-NguyenQuangHuy-Masked01.jpg\n",
            "\n",
            " B18DCAT110-NguyenQuangHuy-NoMasked02.jpg\n",
            "\n",
            " B18DCAT098-Ngô Sỹ Hoàng-NoMask03.jpg\n",
            "\n",
            " B18DCAT098-Ngô Sỹ Hoàng-NoMask02.jpg\n",
            "\n",
            " B18DCAT098-Ngô Sỹ Hoàng-NoMask01.jpg\n",
            "\n",
            " B18DCCN519-Phạm Đình Sơn-NoMasked03.jpg\n",
            "\n",
            " B18DCAT098-Ngô Sỹ Hoàng-Masked03.jpg\n",
            "\n",
            " B18DCAT098-Ngô Sỹ Hoàng-Masked02.jpg\n",
            "\n",
            " B18DCAT098-Ngô Sỹ Hoàng-Masked01.jpg\n",
            "\n",
            " B18DCCN524-NguyenDinhTai-Masked01.jpg\n",
            "\n",
            " B18DCAT097-DangMinhHoang-NoMask01.jpeg\n",
            "\n",
            " B18DCAT097-DangMinhHoang-NoMask03.jpeg\n",
            "\n",
            " B18DCAT097-DangMinhHoang-Masked03.jpeg\n",
            "\n",
            " B18DCAT097-DangMinhHoang-Masked02.jpeg\n",
            "\n",
            " B18DCAT097-DangMinhHoang-NoMask02.jpeg\n",
            "\n",
            " B18DCAT097-DangMinhHoang-Masked01.jpeg\n",
            "\n",
            " B18DCCN519-Phạm Đình Sơn-Masked01.jpg\n",
            "\n",
            " B18DCCN509-Đinh Thái Sơn-Masked01.jpg\n",
            "\n",
            " B18DCAT093 - NguyễnTrungHoàn - NoMask03.jpg\n",
            "\n",
            " B18DCAT093 - NguyễnTrungHoàn - NoMask02.jpg\n",
            "\n",
            " B18DCAT093 - NguyễnTrungHoàn - NoMask01.jpg\n",
            "\n",
            " B18DCAT093 - NguyễnTrungHoàn - Masked03.jpg\n",
            "\n",
            " B18DCAT093 - NguyễnTrungHoàn - Masked02.jpg\n",
            "\n",
            " B18DCAT093 - NguyễnTrungHoàn - Masked01.jpg\n",
            "\n",
            " B18DCCN509-Đinh Thái Sơn-Masked01.jpg\n",
            "\n",
            " B18DCAT073-Trần Văn Hải-Masked02.jpg\n",
            "\n",
            " B18DCAT073-Trần Văn Hải-Masked01.jpg\n",
            "\n",
            " B18DCAT073-Trần Văn Hải-NoMasked03.jpg\n",
            "\n",
            " B18DCAT073-Trần Văn Hải-NoMasked02.jpg\n",
            "\n",
            " B18DCAT073-Trần Văn Hải-NoMasked01.jpg\n",
            "\n",
            " B18DCAT073-Trần Văn Hải-Masked03.jpg\n",
            "\n",
            " B18DCCN490- Đào Hồng Quân - NoMask01.jpg\n",
            "\n",
            " B18DCCN490- Đào Hồng Quân - Masked01.jpg\n",
            "\n",
            " B18DCAT061-Vũ Minh Đức-NoMasked02.jpg\n",
            "\n",
            " B18DCAT061-Vũ Minh Đức-NoMasked03.jpg\n",
            "\n",
            " B18DCAT061-Vũ Minh Đức-NoMasked01.jpg\n",
            "\n",
            " B18DCAT061-Vũ Minh Đức-Masked03.jpg\n",
            "\n",
            " B18DCAT061-Vũ Minh Đức-Masked01.jpg\n",
            "\n",
            " B18DCAT061-Vũ Minh Đức-Masked02.jpg\n"
          ]
        }
      ]
    },
    {
      "cell_type": "markdown",
      "source": [
        "###Extract facial Embeddings"
      ],
      "metadata": {
        "id": "-4UidACeslau"
      }
    },
    {
      "cell_type": "code",
      "source": [
        "#emb0 = model.predict(faces)[0]\n",
        "# emb1 = model.predict(faces[18])[0]\n",
        "embeddings = []\n",
        "flags = []\n",
        "for i in faces:\n",
        "  embedding = model.predict(i)[0]\n",
        "  embeddings.append(embedding)\n"
      ],
      "metadata": {
        "id": "cQL-Yr8le5PR"
      },
      "execution_count": null,
      "outputs": []
    },
    {
      "cell_type": "markdown",
      "source": [
        "####Peform LBP to recognize faces, which can not be recognize by ResNet\n",
        "*calculate histogram of all faces, and then calculate distance between each pairs, which were stored in the tuple: LBP_faces*\n",
        "\n"
      ],
      "metadata": {
        "id": "93oKrZe2mkPw"
      }
    },
    {
      "cell_type": "markdown",
      "source": [
        "#####demo"
      ],
      "metadata": {
        "id": "76sIOiDwtNeF"
      }
    },
    {
      "cell_type": "code",
      "source": [
        "def delete_multiple_element(list_object, indices):\n",
        "    indices = sorted(indices, reverse=True)\n",
        "    for idx in indices:\n",
        "        if idx < len(list_object):\n",
        "            list_object.pop(idx)"
      ],
      "metadata": {
        "id": "Gr8WsFnj_36e"
      },
      "execution_count": null,
      "outputs": []
    },
    {
      "cell_type": "code",
      "source": [
        "# #find duplicate faces\n",
        "# LBP_faces1 = LBP_faces.copy()\n",
        "# LBP_labels1 = LBP_labels.copy()\n",
        "# dup = [i for i, item in enumerate(LBP_faces) if item in LBP_faces[:i]]\n",
        "# #remove duplicated faces\n",
        "# delete_multiple_element(LBP_faces, dup)\n",
        "# delete_multiple_element(LBP_labels, dup)"
      ],
      "metadata": {
        "id": "h9pJv0xRLTPD"
      },
      "execution_count": null,
      "outputs": []
    },
    {
      "cell_type": "markdown",
      "source": [
        "#####extract histogram of all faces (eye, eyebrow regions)\n"
      ],
      "metadata": {
        "id": "aswxFAqDtSmt"
      }
    },
    {
      "cell_type": "code",
      "source": [
        "print(labels[3].partition(\"-\")[0]==labels[4].partition(\"-\")[0])"
      ],
      "metadata": {
        "colab": {
          "base_uri": "https://localhost:8080/"
        },
        "id": "6AsZTQqXwZms",
        "outputId": "f53cbd7f-3b80-45b8-8685-86cd1c408f93"
      },
      "execution_count": null,
      "outputs": [
        {
          "output_type": "stream",
          "name": "stdout",
          "text": [
            "True\n"
          ]
        }
      ]
    },
    {
      "cell_type": "code",
      "source": [
        "hists = []\n",
        "for face in frames:\n",
        "  hist = extract_ROI(face)\n",
        "  hists.append(hist)"
      ],
      "metadata": {
        "id": "xHI2f36Jn0_T"
      },
      "execution_count": null,
      "outputs": []
    },
    {
      "cell_type": "code",
      "source": [
        "#store all cos_distance into a tuple \n",
        "#if cos = 1 and label1 == label2 => True Positive\n",
        "#if cos = 0 and label1 != label2 => True negative\n",
        "#if cos = 0.5, put these faces into a tuple, after that run KNN to choose min distance.\n",
        "\n",
        "label_flags = []  #tuple of ground true, y_test\n",
        "label_flag = 0    #ground true, 2 faces have the same label => label_flag = 1 \n",
        "flags = []    #tuple of y_pred (after finding Cosine similarity)\n",
        "LBP_flags = []      #tuple of faces, which will be classify by using LBP\n",
        "LBP_labels =[] #store labels to use in LBP task\n",
        "\n",
        "for i in range(len(embeddings)):\n",
        "  hist_distances = []\n",
        "  for j in range(len(embeddings) - 1, 0, -1):\n",
        "    if i != j:\n",
        "      flag = findCosineDistance(embeddings[i], embeddings[j])\n",
        "      if flag != 0.5:\n",
        "        flags.append(flag)\n",
        "\n",
        "      elif flag == 0.5 and len(hists) != 0:\n",
        "        if len(hists[i]) == len(hists[j]):\n",
        "          dist = 1 - np.dot(hist[i], hist[j])\n",
        "        else: dist = 10\n",
        "        hist_distances.append(dist)\n",
        "\n",
        "      #store labels for testing prediction  \n",
        "      if labels[i].partition(\"-\")[0] == labels[j].partition(\"-\")[0] and flag != 0.5: \n",
        "        label_flag = 1\n",
        "        label_flags.append(label_flag)\n",
        "      elif labels[i].partition(\"-\")[0] != labels[j].partition(\"-\")[0] and flag != 0.5:\n",
        "        label_flag = 0\n",
        "        label_flags.append(label_flag)\n",
        "      # else: print(\"this face must be verified by LBP\")\n",
        "      # label_flags.append(label_flag)\n",
        "      # label_flag = 0\n",
        "\n",
        "    else: continue  \n",
        "\n",
        "#LBP prediction part\n",
        "  if len(hist_distances) != 0:\n",
        "    min_hist = min(hist_distances)\n",
        "    min_index = hist_distances.index(min_hist)\n",
        "    LBP_flags.append(1)\n",
        "    if labels[min_index].partition(\"-\")[0] == labels[min_index +1].partition(\"-\")[0]: LBP_labels.append(1) #one hist have 2 faces, hist0 = dist(faces[0], faces[1])\n",
        "    else: LBP_labels.append(0)"
      ],
      "metadata": {
        "id": "uQf7_VrZdGik"
      },
      "execution_count": null,
      "outputs": []
    },
    {
      "cell_type": "markdown",
      "source": [
        "##Accuracy and ROC curve"
      ],
      "metadata": {
        "id": "OdkZRYNqbcpA"
      }
    },
    {
      "cell_type": "markdown",
      "source": [
        "###Accuracy without LBP method"
      ],
      "metadata": {
        "id": "ZRDljGmZxWAi"
      }
    },
    {
      "cell_type": "code",
      "source": [
        "import pandas as pd\n",
        "import numpy as np\n",
        "from sklearn.model_selection import train_test_split\n",
        "from sklearn.linear_model import LogisticRegression\n",
        "from sklearn import metrics\n",
        "from sklearn.metrics import f1_score\n",
        "import matplotlib.pyplot as plt\n",
        "from sklearn.metrics import accuracy_score\n",
        "\n",
        "# a = len([i for i, j in zip(flags, label_flags) if i == j])\n",
        "# b = len(flags)\n",
        "# acc = a/b *100\n",
        "acc = accuracy_score(label_flags, flags)\n",
        "print(\"accuracy without LBP is: \", acc)\n",
        "print(\"F1 score without LBPis: \", f1_score(label_flags, flags))\n",
        "print(\"\\n\")\n",
        "\n",
        "fpr, tpr, _ = metrics.roc_curve(label_flags, flags)\n",
        "auc = metrics.roc_auc_score(label_flags, flags)\n",
        "\n",
        "#create ROC curve\n",
        "plt.plot(fpr,tpr,label=\"AUC=\"+str(auc))\n",
        "plt.title(\"ROC CURVE without LBP\")\n",
        "plt.ylabel('True Positive Rate')\n",
        "plt.xlabel('False Positive Rate')\n",
        "plt.legend(loc=4)\n",
        "plt.show()"
      ],
      "metadata": {
        "colab": {
          "base_uri": "https://localhost:8080/",
          "height": 364
        },
        "id": "oByNVxLxlVWC",
        "outputId": "5d29b609-2502-4613-8c72-f3fa3a0f9ea1"
      },
      "execution_count": null,
      "outputs": [
        {
          "output_type": "stream",
          "name": "stdout",
          "text": [
            "accuracy without LBP is:  0.9401759530791789\n",
            "F1 score without LBPis:  0.5096153846153846\n",
            "\n",
            "\n"
          ]
        },
        {
          "output_type": "display_data",
          "data": {
            "text/plain": [
              "<Figure size 432x288 with 1 Axes>"
            ],
            "image/png": "[encoded data removed]"
          },
          "metadata": {
            "needs_background": "light"
          }
        }
      ]
    },
    {
      "cell_type": "markdown",
      "source": [
        "###Accuracy with LBP method"
      ],
      "metadata": {
        "id": "9eD1smMhxhTK"
      }
    },
    {
      "cell_type": "code",
      "source": [
        "total_flags = flags + LBP_flags\n",
        "total_labels = label_flags + LBP_labels"
      ],
      "metadata": {
        "id": "W943vVH6xoO2"
      },
      "execution_count": null,
      "outputs": []
    },
    {
      "cell_type": "code",
      "source": [
        "a = len([i for i, j in zip(total_flags, total_labels) if i == j])\n",
        "b = len(total_flags)\n",
        "acc = a/b *100\n",
        "print(\"accuracy with LBP is: \", acc)\n",
        "print(\"F1 score with LBP is: \", f1_score(total_labels, total_flags))\n",
        "print(\"\\n\")\n",
        "fpr, tpr, _ = metrics.roc_curve(total_labels, total_flags)\n",
        "auc = metrics.roc_auc_score(total_labels, total_flags)\n",
        "\n",
        "#create ROC curve\n",
        "plt.plot(fpr,tpr,label=\"AUC=\"+str(auc))\n",
        "plt.title(\"ROC CURVE with LBP\")\n",
        "plt.ylabel('True Positive Rate')\n",
        "plt.xlabel('False Positive Rate')\n",
        "plt.legend(loc=4)\n",
        "plt.show()"
      ],
      "metadata": {
        "colab": {
          "base_uri": "https://localhost:8080/",
          "height": 364
        },
        "id": "y6Ri9Graxdxl",
        "outputId": "94d0a875-eda0-4283-e5d9-170ddff49280"
      },
      "execution_count": null,
      "outputs": [
        {
          "output_type": "stream",
          "name": "stdout",
          "text": [
            "accuracy with LBP is:  93.71231696813092\n",
            "F1 score with LBP is:  0.5996343692870201\n",
            "\n",
            "\n"
          ]
        },
        {
          "output_type": "display_data",
          "data": {
            "text/plain": [
              "<Figure size 432x288 with 1 Axes>"
            ],
            "image/png": "[encoded data removed]"
          },
          "metadata": {
            "needs_background": "light"
          }
        }
      ]
    },
    {
      "cell_type": "markdown",
      "source": [
        "------------------------------------------------------------------------------------------------------------------------------------------------------------------------------------------------------------------------"
      ],
      "metadata": {
        "id": "GZhb-v5cbXhJ"
      }
    },
    {
      "cell_type": "markdown",
      "source": [
        "###demo"
      ],
      "metadata": {
        "id": "wETlEeJVxe1Y"
      }
    },
    {
      "cell_type": "code",
      "source": [
        "findCosineDistance(embeddings[55], embeddings[57])"
      ],
      "metadata": {
        "id": "M95ocOfPiZAm"
      },
      "execution_count": null,
      "outputs": []
    },
    {
      "cell_type": "code",
      "source": [
        "labels[1]"
      ],
      "metadata": {
        "id": "fAwKrNIBiquV"
      },
      "execution_count": null,
      "outputs": []
    },
    {
      "cell_type": "code",
      "source": [
        "labels[2]"
      ],
      "metadata": {
        "id": "6ZlDGgjOiuL4"
      },
      "execution_count": null,
      "outputs": []
    },
    {
      "cell_type": "code",
      "source": [
        "  plt.imshow(cv2.cvtColor(frames[57], cv2.COLOR_BGR2RGB))\n"
      ],
      "metadata": {
        "id": "QRwQfn1ZouH_"
      },
      "execution_count": null,
      "outputs": []
    },
    {
      "cell_type": "code",
      "source": [
        "a = [1, 2, 53]\n",
        "b = [55, 2]\n",
        "\n",
        "for i in a:\n",
        "  for j in b:\n",
        "    sim = findCosineDistance(embeddings[i], embeddings[j])\n",
        "    if sim == 1:\n",
        "      plot_images(frames[i], frames[j], \"the same Person\")\n",
        "    elif sim == 0:\n",
        "      plot_images(frames[i], frames[j], \"Not the same Person\")\n"
      ],
      "metadata": {
        "id": "T82loLDKkn98"
      },
      "execution_count": null,
      "outputs": []
    },
    {
      "cell_type": "code",
      "source": [
        "len(LBP_faces)"
      ],
      "metadata": {
        "id": "LqxYR61TmZqy"
      },
      "execution_count": null,
      "outputs": []
    },
    {
      "cell_type": "markdown",
      "source": [
        "#another resnet34 model\n",
        "This pretrained model came from insigntface, which required inputs as a tensor "
      ],
      "metadata": {
        "id": "qPjyozbGfxEK"
      }
    },
    {
      "cell_type": "code",
      "source": [
        "!wget https://github.com/leondgarse/Keras_insightface/releases/download/v1.0.0/resnet34_MXNET_E_SGD_REG_1e3_on_batch_true_lr1e1_random0_arc_S32_E1_BS512_casia_basic_agedb_30_epoch_36_0.949500.h5"
      ],
      "metadata": {
        "id": "MUdXnslBgDrw"
      },
      "execution_count": null,
      "outputs": []
    },
    {
      "cell_type": "code",
      "source": [
        "import tensorflow as tf\n",
        "from tensorflow import keras\n",
        "import numpy as np\n",
        "from tensorflow.keras.preprocessing.image import ImageDataGenerator\n",
        "model_34 = keras.models.load_model(\"resnet34_MXNET_E_SGD_REG_1e3_on_batch_true_lr1e1_random0_arc_S32_E1_BS512_casia_basic_agedb_30_epoch_36_0.949500.h5\", compile=False)\n",
        "model_34.summary()"
      ],
      "metadata": {
        "id": "xChNZI1UgTeG"
      },
      "execution_count": null,
      "outputs": []
    },
    {
      "cell_type": "code",
      "source": [
        "# validation_dir = \"/content/test/\"\n",
        "# IMG_SIZE = (112, 112)\n",
        "# BATCH_SIZE = 1\n",
        "# validation_dataset = tf.keras.utils.image_dataset_from_directory(validation_dir,\n",
        "#                                                                  shuffle=False,\n",
        "#                                                                  batch_size=BATCH_SIZE,\n",
        "#                                                                  image_size=IMG_SIZE)\n",
        "#-----------------------------------------------------------------------------------------#\n",
        "datagen = ImageDataGenerator(rescale=1.0/255.0)\n",
        "test_data = datagen.flow_from_directory('/content/test', target_size=(112,112))"
      ],
      "metadata": {
        "id": "Yb3rXEX0gXCM"
      },
      "execution_count": null,
      "outputs": []
    },
    {
      "cell_type": "code",
      "source": [
        "emb = []\n",
        "emb = model.predict(test_data)\n",
        "# emb2 = model_34.predict(img2)"
      ],
      "metadata": {
        "id": "8t3HQNi4jL60"
      },
      "execution_count": null,
      "outputs": []
    },
    {
      "cell_type": "code",
      "source": [
        "import matplotlib.pyplot as plt\n",
        "img1 = plt.imread(\"/content/test/0/14_resize.PNG\")\n",
        "img2 = plt.imread(\"/content/test/0/image_resize.jpg\")\n",
        "fig = plt.figure(figsize=(10, 10))\n",
        "\n",
        "rows = 2\n",
        "columns = 2\n",
        "fig.add_subplot(rows, columns, 1)\n",
        "\n",
        "# showing image\n",
        "plt.imshow(img1)\n",
        "plt.axis('off')\n",
        "plt.title(\"First\")\n",
        "  \n",
        "# Adds a subplot at the 2nd position\n",
        "fig.add_subplot(rows, columns, 2)\n",
        "  \n",
        "# showing image\n",
        "plt.imshow(img2)\n",
        "plt.axis('off')\n",
        "plt.title(\"Second\")\n",
        "\n",
        "# Verify person with Cosine distance\n",
        "dist_emb_test = findCosineDistance(emb[0], emb[1])"
      ],
      "metadata": {
        "id": "Ynxzw74Wj66L"
      },
      "execution_count": null,
      "outputs": []
    },
    {
      "cell_type": "markdown",
      "source": [
        "#Convert to onnx model"
      ],
      "metadata": {
        "id": "uz8gDW2sLhzi"
      }
    },
    {
      "cell_type": "code",
      "source": [
        "!pip install onnxruntime\n",
        "!pip install onnx "
      ],
      "metadata": {
        "id": "qZtLLI-aLrH4"
      },
      "execution_count": null,
      "outputs": []
    },
    {
      "cell_type": "code",
      "source": [
        "import onnx \n",
        "import onnxruntime\n",
        "\n",
        "model_onnx = onnx.load(\"/content/drive/MyDrive/Colab Notebooks/resnet/resnet34_ducanh.onnx\")\n",
        "outputs = []\n",
        "for node in model_onnx.graph.node:\n",
        "    print(node.name, node.input)\n",
        "    outputs.extend(node.output)\n",
        "\n",
        "# session = onnxruntime.InferenceSession(\"/content/resnet34.onnx\")\n",
        "# input = session.get_outputs()[0]\n",
        "# print(input.shape)"
      ],
      "metadata": {
        "id": "m4-1F0XQLhgI"
      },
      "execution_count": null,
      "outputs": []
    },
    {
      "cell_type": "code",
      "source": [
        "session = onnxruntime.InferenceSession(\"/content/drive/MyDrive/Colab Notebooks/resnet/resnet100.onnx\")\n",
        "input = session.get_inputs()[0]\n",
        "print(input.shape)"
      ],
      "metadata": {
        "id": "MhmsE-GLINP3"
      },
      "execution_count": null,
      "outputs": []
    },
    {
      "cell_type": "markdown",
      "source": [
        "freezing tf model and get graph node"
      ],
      "metadata": {
        "id": "30FwFjzBW02A"
      }
    },
    {
      "cell_type": "code",
      "source": [
        "tf.saved_model.save(model, \"/content/demo\")"
      ],
      "metadata": {
        "id": "fUbIRI1TDIq7"
      },
      "execution_count": null,
      "outputs": []
    },
    {
      "cell_type": "code",
      "source": [
        "%tensorflow_version 1.x"
      ],
      "metadata": {
        "id": "0jjw6piWXH79"
      },
      "execution_count": null,
      "outputs": []
    },
    {
      "cell_type": "code",
      "source": [
        "import tensorflow as tf\n",
        "\n",
        "def load_graph(frozen_graph_filename):\n",
        "    # We load the protobuf file from the disk and parse it to retrieve the \n",
        "    # unserialized graph_def\n",
        "    with tf.gfile.GFile(frozen_graph_filename, \"rb\") as f:\n",
        "        graph_def = tf.GraphDef()\n",
        "        graph_def.ParseFromString(f.read())\n",
        "\n",
        "    # Then, we import the graph_def into a new Graph and returns it \n",
        "    with tf.Graph().as_default() as graph:\n",
        "        # The name var will prefix every op/nodes in your graph\n",
        "        # Since we load everything in a new graph, this is not needed\n",
        "        tf.import_graph_def(graph_def, name=\"prefix\")\n",
        "    return graph"
      ],
      "metadata": {
        "id": "jK4tPPlgW0Im"
      },
      "execution_count": null,
      "outputs": []
    },
    {
      "cell_type": "code",
      "source": [
        "export_path = '/content/demo/'\n",
        "\n",
        "# We start a session using a temporary fresh Graph\n",
        "with tf.Session(graph=tf.Graph()) as sess:\n",
        "    '''\n",
        "    You can provide 'tags' when saving a model,\n",
        "    in my case I provided, 'serve' tag \n",
        "    '''\n",
        "\n",
        "    tf.saved_model.loader.load(sess, ['serve'], export_path)\n",
        "    graph = tf.get_default_graph()\n",
        "\n",
        "    # print your graph's ops, if needed\n",
        "    print(graph.get_operations())\n",
        "\n",
        "    '''\n",
        "    In my case, I named my input and output tensors as\n",
        "    input:0 and output:0 respectively\n",
        "    ''' \n",
        "    y_pred = sess.run('output:0', feed_dict={'input:0': X_test})"
      ],
      "metadata": {
        "id": "jWaMa83RW-SH"
      },
      "execution_count": null,
      "outputs": []
    },
    {
      "cell_type": "markdown",
      "source": [
        "####Convert model Arcface to ONNX"
      ],
      "metadata": {
        "id": "mx-CaD5YDsq9"
      }
    },
    {
      "cell_type": "code",
      "source": [
        "!pip install -U tf2onnx"
      ],
      "metadata": {
        "id": "3G-iedhDDsSC"
      },
      "execution_count": null,
      "outputs": []
    },
    {
      "cell_type": "code",
      "source": [
        ""
      ],
      "metadata": {
        "id": "wnu7CChuGfaD"
      },
      "execution_count": null,
      "outputs": []
    },
    {
      "cell_type": "code",
      "source": [
        "%tensorflow_version 2.x\n",
        "!python -m tf2onnx.convert --saved-model /content/demo --output model_demo.onnx --inputs 'StatefulPartitionedCall/ResNet34/conv1_conv/Conv2D__6:0'['None',3,112,112]"
      ],
      "metadata": {
        "id": "0OxXaDgOEH2M"
      },
      "execution_count": null,
      "outputs": []
    }
  ]
}