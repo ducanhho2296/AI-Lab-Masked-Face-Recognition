{
  "cells": [
    {
      "cell_type": "markdown",
      "metadata": {
        "id": "view-in-github",
        "colab_type": "text"
      },
      "source": [
        "<a href=\"https://colab.research.google.com/github/ducanhho2296/AI-Lab-Masked-Face-Recognition/blob/main/Test%20MFR.ipynb\" target=\"_parent\"><img src=\"https://colab.research.google.com/assets/colab-badge.svg\" alt=\"Open In Colab\"/></a>"
      ]
    },
    {
      "cell_type": "markdown",
      "metadata": {
        "id": "GoZh7QxIVaPT"
      },
      "source": [
        "#ResNet34- Face recognition [deepface](https://github.com/serengil/deepface)"
      ]
    },
    {
      "cell_type": "markdown",
      "metadata": {
        "id": "5P-BNVrImkT6"
      },
      "source": [
        "github limit file size to upload model, so I upload the weights in google drive\n"
      ]
    },
    {
      "cell_type": "code",
      "execution_count": null,
      "metadata": {
        "colab": {
          "base_uri": "https://localhost:8080/"
        },
        "id": "SQBLo-pEVgM1",
        "outputId": "79fb29ed-7a96-4cf6-e814-208924d140bb"
      },
      "outputs": [
        {
          "output_type": "stream",
          "name": "stdout",
          "text": [
            "Downloading...\n",
            "From: https://drive.google.com/uc?id=1LVB3CdVejpmGHM28BpqqkbZP5hDEcdZY\n",
            "To: /content/arcface_weights.h5\n",
            "100% 137M/137M [00:01<00:00, 83.5MB/s]\n"
          ]
        }
      ],
      "source": [
        "import gdown\n",
        "!gdown 1LVB3CdVejpmGHM28BpqqkbZP5hDEcdZY"
      ]
    },
    {
      "cell_type": "code",
      "execution_count": null,
      "metadata": {
        "colab": {
          "base_uri": "https://localhost:8080/"
        },
        "id": "cded_JkxCpoG",
        "outputId": "1725c2ad-0e6b-48b2-9356-6774c4bbe83c"
      },
      "outputs": [
        {
          "output_type": "stream",
          "name": "stdout",
          "text": [
            "Cloning into 'Create-Face-Data-from-Images'...\n",
            "remote: Enumerating objects: 24, done.\u001b[K\n",
            "remote: Counting objects: 100% (5/5), done.\u001b[K\n",
            "remote: Total 24 (delta 4), reused 4 (delta 4), pack-reused 19\u001b[K\n",
            "Unpacking objects: 100% (24/24), done.\n"
          ]
        }
      ],
      "source": [
        "!git clone https://github.com/kb22/Create-Face-Data-from-Images.git"
      ]
    },
    {
      "cell_type": "markdown",
      "metadata": {
        "id": "oXrV91GqZwR3"
      },
      "source": [
        "##Model Arcface-Resnet34"
      ]
    },
    {
      "cell_type": "code",
      "execution_count": null,
      "metadata": {
        "id": "2VwqwjwuVjs7"
      },
      "outputs": [],
      "source": [
        "import tensorflow as tf\n",
        "from tensorflow import keras\n",
        "from tensorflow.keras import layers\n",
        "from tensorflow.python.keras.engine import training\n",
        "\n",
        "def ResNet34():\n",
        "\n",
        "\timg_input = layers.Input(shape=(112, 112, 3))\n",
        "\n",
        "\tx = layers.ZeroPadding2D(padding=1, name='conv1_pad')(img_input)\n",
        "\tx = layers.Conv2D(64, 3, strides=1, use_bias=False, \n",
        "                   kernel_initializer='glorot_normal', \n",
        "                   name='conv1_conv')(x)\n",
        "\tx = layers.BatchNormalization(axis=3, epsilon=2e-5, momentum=0.9, name='conv1_bn')(x)\n",
        "\tx = layers.PReLU(shared_axes=[1, 2], name='conv1_prelu')(x)\n",
        "\tx = stack_fn(x)\n",
        "\n",
        "\tmodel = training.Model(img_input, x, name='ResNet34')\n",
        "\n",
        "\treturn model\n",
        "\n",
        "def block1(x, filters, kernel_size=3, stride=1, conv_shortcut=True, name=None):\n",
        "\tbn_axis = 3\n",
        "\n",
        "\tif conv_shortcut:\n",
        "\t\tshortcut = layers.Conv2D(filters, 1, strides=stride, use_bias=False, kernel_initializer='glorot_normal', name=name + '_0_conv')(x)\n",
        "\t\tshortcut = layers.BatchNormalization(axis=bn_axis, epsilon=2e-5, momentum=0.9, name=name + '_0_bn')(shortcut)\n",
        "\telse:\n",
        "\t\tshortcut = x\n",
        "\n",
        "\tx = layers.BatchNormalization(axis=bn_axis, epsilon=2e-5, momentum=0.9, name=name + '_1_bn')(x)\n",
        "\tx = layers.ZeroPadding2D(padding=1, name=name + '_1_pad')(x)\n",
        "\tx = layers.Conv2D(filters, 3, strides=1, kernel_initializer='glorot_normal', use_bias=False, name=name + '_1_conv')(x)\n",
        "\tx = layers.BatchNormalization(axis=bn_axis, epsilon=2e-5, momentum=0.9, name=name + '_2_bn')(x)\n",
        "\tx = layers.PReLU(shared_axes=[1, 2], name=name + '_1_prelu')(x)\n",
        "\n",
        "\tx = layers.ZeroPadding2D(padding=1, name=name + '_2_pad')(x)\n",
        "\tx = layers.Conv2D(filters, kernel_size, strides=stride, kernel_initializer='glorot_normal', use_bias=False, name=name + '_2_conv')(x)\n",
        "\tx = layers.BatchNormalization(axis=bn_axis, epsilon=2e-5, momentum=0.9, name=name + '_3_bn')(x)\n",
        "\n",
        "\tx = layers.Add(name=name + '_add')([shortcut, x])\n",
        "\treturn x\n",
        "\n",
        "def stack1(x, filters, blocks, stride1=2, name=None):\n",
        "\tx = block1(x, filters, stride=stride1, name=name + '_block1')\n",
        "\tfor i in range(2, blocks + 1):\n",
        "\t\tx = block1(x, filters, conv_shortcut=False, name=name + '_block' + str(i))\n",
        "\treturn x\n",
        "\n",
        "def stack_fn(x):\n",
        "\tx = stack1(x, 64, 3, name='conv2')\n",
        "\tx = stack1(x, 128, 4, name='conv3')\n",
        "\tx = stack1(x, 256, 6, name='conv4')\n",
        "\treturn stack1(x, 512, 3, name='conv5')"
      ]
    },
    {
      "cell_type": "markdown",
      "metadata": {
        "id": "riaWYZS7O7MK"
      },
      "source": [
        "###Load model"
      ]
    },
    {
      "cell_type": "code",
      "execution_count": null,
      "metadata": {
        "id": "71zVbDunO6r-"
      },
      "outputs": [],
      "source": [
        "def loadModel(model_path):\n",
        "\tbase_model = ResNet34()\n",
        "\tinputs = base_model.inputs[0]\n",
        "\tarcface_model = base_model.outputs[0]\n",
        "\tarcface_model = layers.BatchNormalization(momentum=0.9, epsilon=2e-5)(arcface_model)\n",
        "\tarcface_model = layers.Dropout(0.4)(arcface_model)\n",
        "\tarcface_model = layers.Flatten()(arcface_model)\n",
        "\tarcface_model = layers.Dense(512, activation=None, use_bias=True, kernel_initializer=\"glorot_normal\")(arcface_model)\n",
        "\tembedding = layers.BatchNormalization(momentum=0.9, epsilon=2e-5, name=\"embedding\", scale=True)(arcface_model)\n",
        "\tmodel = keras.models.Model(inputs, embedding, name=base_model.name)\n",
        "\n",
        "\tmodel.load_weights(model_path)\n",
        "\n",
        "\treturn model"
      ]
    },
    {
      "cell_type": "code",
      "execution_count": null,
      "metadata": {
        "id": "T6V2QyuhWIr_"
      },
      "outputs": [],
      "source": [
        "model_path = \"/content/arcface_weights.h5\"\n",
        "model = loadModel(model_path)"
      ]
    },
    {
      "cell_type": "code",
      "execution_count": null,
      "metadata": {
        "colab": {
          "base_uri": "https://localhost:8080/"
        },
        "id": "UXDEb67ta-M3",
        "outputId": "3b9b0ee7-e6ae-4945-95a7-552a54ba500d"
      },
      "outputs": [
        {
          "output_type": "stream",
          "name": "stdout",
          "text": [
            "Model: \"ResNet34\"\n",
            "__________________________________________________________________________________________________\n",
            " Layer (type)                   Output Shape         Param #     Connected to                     \n",
            "==================================================================================================\n",
            " input_1 (InputLayer)           [(None, 112, 112, 3  0           []                               \n",
            "                                )]                                                                \n",
            "                                                                                                  \n",
            " conv1_pad (ZeroPadding2D)      (None, 114, 114, 3)  0           ['input_1[0][0]']                \n",
            "                                                                                                  \n",
            " conv1_conv (Conv2D)            (None, 112, 112, 64  1728        ['conv1_pad[0][0]']              \n",
            "                                )                                                                 \n",
            "                                                                                                  \n",
            " conv1_bn (BatchNormalization)  (None, 112, 112, 64  256         ['conv1_conv[0][0]']             \n",
            "                                )                                                                 \n",
            "                                                                                                  \n",
            " conv1_prelu (PReLU)            (None, 112, 112, 64  64          ['conv1_bn[0][0]']               \n",
            "                                )                                                                 \n",
            "                                                                                                  \n",
            " conv2_block1_1_bn (BatchNormal  (None, 112, 112, 64  256        ['conv1_prelu[0][0]']            \n",
            " ization)                       )                                                                 \n",
            "                                                                                                  \n",
            " conv2_block1_1_pad (ZeroPaddin  (None, 114, 114, 64  0          ['conv2_block1_1_bn[0][0]']      \n",
            " g2D)                           )                                                                 \n",
            "                                                                                                  \n",
            " conv2_block1_1_conv (Conv2D)   (None, 112, 112, 64  36864       ['conv2_block1_1_pad[0][0]']     \n",
            "                                )                                                                 \n",
            "                                                                                                  \n",
            " conv2_block1_2_bn (BatchNormal  (None, 112, 112, 64  256        ['conv2_block1_1_conv[0][0]']    \n",
            " ization)                       )                                                                 \n",
            "                                                                                                  \n",
            " conv2_block1_1_prelu (PReLU)   (None, 112, 112, 64  64          ['conv2_block1_2_bn[0][0]']      \n",
            "                                )                                                                 \n",
            "                                                                                                  \n",
            " conv2_block1_2_pad (ZeroPaddin  (None, 114, 114, 64  0          ['conv2_block1_1_prelu[0][0]']   \n",
            " g2D)                           )                                                                 \n",
            "                                                                                                  \n",
            " conv2_block1_0_conv (Conv2D)   (None, 56, 56, 64)   4096        ['conv1_prelu[0][0]']            \n",
            "                                                                                                  \n",
            " conv2_block1_2_conv (Conv2D)   (None, 56, 56, 64)   36864       ['conv2_block1_2_pad[0][0]']     \n",
            "                                                                                                  \n",
            " conv2_block1_0_bn (BatchNormal  (None, 56, 56, 64)  256         ['conv2_block1_0_conv[0][0]']    \n",
            " ization)                                                                                         \n",
            "                                                                                                  \n",
            " conv2_block1_3_bn (BatchNormal  (None, 56, 56, 64)  256         ['conv2_block1_2_conv[0][0]']    \n",
            " ization)                                                                                         \n",
            "                                                                                                  \n",
            " conv2_block1_add (Add)         (None, 56, 56, 64)   0           ['conv2_block1_0_bn[0][0]',      \n",
            "                                                                  'conv2_block1_3_bn[0][0]']      \n",
            "                                                                                                  \n",
            " conv2_block2_1_bn (BatchNormal  (None, 56, 56, 64)  256         ['conv2_block1_add[0][0]']       \n",
            " ization)                                                                                         \n",
            "                                                                                                  \n",
            " conv2_block2_1_pad (ZeroPaddin  (None, 58, 58, 64)  0           ['conv2_block2_1_bn[0][0]']      \n",
            " g2D)                                                                                             \n",
            "                                                                                                  \n",
            " conv2_block2_1_conv (Conv2D)   (None, 56, 56, 64)   36864       ['conv2_block2_1_pad[0][0]']     \n",
            "                                                                                                  \n",
            " conv2_block2_2_bn (BatchNormal  (None, 56, 56, 64)  256         ['conv2_block2_1_conv[0][0]']    \n",
            " ization)                                                                                         \n",
            "                                                                                                  \n",
            " conv2_block2_1_prelu (PReLU)   (None, 56, 56, 64)   64          ['conv2_block2_2_bn[0][0]']      \n",
            "                                                                                                  \n",
            " conv2_block2_2_pad (ZeroPaddin  (None, 58, 58, 64)  0           ['conv2_block2_1_prelu[0][0]']   \n",
            " g2D)                                                                                             \n",
            "                                                                                                  \n",
            " conv2_block2_2_conv (Conv2D)   (None, 56, 56, 64)   36864       ['conv2_block2_2_pad[0][0]']     \n",
            "                                                                                                  \n",
            " conv2_block2_3_bn (BatchNormal  (None, 56, 56, 64)  256         ['conv2_block2_2_conv[0][0]']    \n",
            " ization)                                                                                         \n",
            "                                                                                                  \n",
            " conv2_block2_add (Add)         (None, 56, 56, 64)   0           ['conv2_block1_add[0][0]',       \n",
            "                                                                  'conv2_block2_3_bn[0][0]']      \n",
            "                                                                                                  \n",
            " conv2_block3_1_bn (BatchNormal  (None, 56, 56, 64)  256         ['conv2_block2_add[0][0]']       \n",
            " ization)                                                                                         \n",
            "                                                                                                  \n",
            " conv2_block3_1_pad (ZeroPaddin  (None, 58, 58, 64)  0           ['conv2_block3_1_bn[0][0]']      \n",
            " g2D)                                                                                             \n",
            "                                                                                                  \n",
            " conv2_block3_1_conv (Conv2D)   (None, 56, 56, 64)   36864       ['conv2_block3_1_pad[0][0]']     \n",
            "                                                                                                  \n",
            " conv2_block3_2_bn (BatchNormal  (None, 56, 56, 64)  256         ['conv2_block3_1_conv[0][0]']    \n",
            " ization)                                                                                         \n",
            "                                                                                                  \n",
            " conv2_block3_1_prelu (PReLU)   (None, 56, 56, 64)   64          ['conv2_block3_2_bn[0][0]']      \n",
            "                                                                                                  \n",
            " conv2_block3_2_pad (ZeroPaddin  (None, 58, 58, 64)  0           ['conv2_block3_1_prelu[0][0]']   \n",
            " g2D)                                                                                             \n",
            "                                                                                                  \n",
            " conv2_block3_2_conv (Conv2D)   (None, 56, 56, 64)   36864       ['conv2_block3_2_pad[0][0]']     \n",
            "                                                                                                  \n",
            " conv2_block3_3_bn (BatchNormal  (None, 56, 56, 64)  256         ['conv2_block3_2_conv[0][0]']    \n",
            " ization)                                                                                         \n",
            "                                                                                                  \n",
            " conv2_block3_add (Add)         (None, 56, 56, 64)   0           ['conv2_block2_add[0][0]',       \n",
            "                                                                  'conv2_block3_3_bn[0][0]']      \n",
            "                                                                                                  \n",
            " conv3_block1_1_bn (BatchNormal  (None, 56, 56, 64)  256         ['conv2_block3_add[0][0]']       \n",
            " ization)                                                                                         \n",
            "                                                                                                  \n",
            " conv3_block1_1_pad (ZeroPaddin  (None, 58, 58, 64)  0           ['conv3_block1_1_bn[0][0]']      \n",
            " g2D)                                                                                             \n",
            "                                                                                                  \n",
            " conv3_block1_1_conv (Conv2D)   (None, 56, 56, 128)  73728       ['conv3_block1_1_pad[0][0]']     \n",
            "                                                                                                  \n",
            " conv3_block1_2_bn (BatchNormal  (None, 56, 56, 128)  512        ['conv3_block1_1_conv[0][0]']    \n",
            " ization)                                                                                         \n",
            "                                                                                                  \n",
            " conv3_block1_1_prelu (PReLU)   (None, 56, 56, 128)  128         ['conv3_block1_2_bn[0][0]']      \n",
            "                                                                                                  \n",
            " conv3_block1_2_pad (ZeroPaddin  (None, 58, 58, 128)  0          ['conv3_block1_1_prelu[0][0]']   \n",
            " g2D)                                                                                             \n",
            "                                                                                                  \n",
            " conv3_block1_0_conv (Conv2D)   (None, 28, 28, 128)  8192        ['conv2_block3_add[0][0]']       \n",
            "                                                                                                  \n",
            " conv3_block1_2_conv (Conv2D)   (None, 28, 28, 128)  147456      ['conv3_block1_2_pad[0][0]']     \n",
            "                                                                                                  \n",
            " conv3_block1_0_bn (BatchNormal  (None, 28, 28, 128)  512        ['conv3_block1_0_conv[0][0]']    \n",
            " ization)                                                                                         \n",
            "                                                                                                  \n",
            " conv3_block1_3_bn (BatchNormal  (None, 28, 28, 128)  512        ['conv3_block1_2_conv[0][0]']    \n",
            " ization)                                                                                         \n",
            "                                                                                                  \n",
            " conv3_block1_add (Add)         (None, 28, 28, 128)  0           ['conv3_block1_0_bn[0][0]',      \n",
            "                                                                  'conv3_block1_3_bn[0][0]']      \n",
            "                                                                                                  \n",
            " conv3_block2_1_bn (BatchNormal  (None, 28, 28, 128)  512        ['conv3_block1_add[0][0]']       \n",
            " ization)                                                                                         \n",
            "                                                                                                  \n",
            " conv3_block2_1_pad (ZeroPaddin  (None, 30, 30, 128)  0          ['conv3_block2_1_bn[0][0]']      \n",
            " g2D)                                                                                             \n",
            "                                                                                                  \n",
            " conv3_block2_1_conv (Conv2D)   (None, 28, 28, 128)  147456      ['conv3_block2_1_pad[0][0]']     \n",
            "                                                                                                  \n",
            " conv3_block2_2_bn (BatchNormal  (None, 28, 28, 128)  512        ['conv3_block2_1_conv[0][0]']    \n",
            " ization)                                                                                         \n",
            "                                                                                                  \n",
            " conv3_block2_1_prelu (PReLU)   (None, 28, 28, 128)  128         ['conv3_block2_2_bn[0][0]']      \n",
            "                                                                                                  \n",
            " conv3_block2_2_pad (ZeroPaddin  (None, 30, 30, 128)  0          ['conv3_block2_1_prelu[0][0]']   \n",
            " g2D)                                                                                             \n",
            "                                                                                                  \n",
            " conv3_block2_2_conv (Conv2D)   (None, 28, 28, 128)  147456      ['conv3_block2_2_pad[0][0]']     \n",
            "                                                                                                  \n",
            " conv3_block2_3_bn (BatchNormal  (None, 28, 28, 128)  512        ['conv3_block2_2_conv[0][0]']    \n",
            " ization)                                                                                         \n",
            "                                                                                                  \n",
            " conv3_block2_add (Add)         (None, 28, 28, 128)  0           ['conv3_block1_add[0][0]',       \n",
            "                                                                  'conv3_block2_3_bn[0][0]']      \n",
            "                                                                                                  \n",
            " conv3_block3_1_bn (BatchNormal  (None, 28, 28, 128)  512        ['conv3_block2_add[0][0]']       \n",
            " ization)                                                                                         \n",
            "                                                                                                  \n",
            " conv3_block3_1_pad (ZeroPaddin  (None, 30, 30, 128)  0          ['conv3_block3_1_bn[0][0]']      \n",
            " g2D)                                                                                             \n",
            "                                                                                                  \n",
            " conv3_block3_1_conv (Conv2D)   (None, 28, 28, 128)  147456      ['conv3_block3_1_pad[0][0]']     \n",
            "                                                                                                  \n",
            " conv3_block3_2_bn (BatchNormal  (None, 28, 28, 128)  512        ['conv3_block3_1_conv[0][0]']    \n",
            " ization)                                                                                         \n",
            "                                                                                                  \n",
            " conv3_block3_1_prelu (PReLU)   (None, 28, 28, 128)  128         ['conv3_block3_2_bn[0][0]']      \n",
            "                                                                                                  \n",
            " conv3_block3_2_pad (ZeroPaddin  (None, 30, 30, 128)  0          ['conv3_block3_1_prelu[0][0]']   \n",
            " g2D)                                                                                             \n",
            "                                                                                                  \n",
            " conv3_block3_2_conv (Conv2D)   (None, 28, 28, 128)  147456      ['conv3_block3_2_pad[0][0]']     \n",
            "                                                                                                  \n",
            " conv3_block3_3_bn (BatchNormal  (None, 28, 28, 128)  512        ['conv3_block3_2_conv[0][0]']    \n",
            " ization)                                                                                         \n",
            "                                                                                                  \n",
            " conv3_block3_add (Add)         (None, 28, 28, 128)  0           ['conv3_block2_add[0][0]',       \n",
            "                                                                  'conv3_block3_3_bn[0][0]']      \n",
            "                                                                                                  \n",
            " conv3_block4_1_bn (BatchNormal  (None, 28, 28, 128)  512        ['conv3_block3_add[0][0]']       \n",
            " ization)                                                                                         \n",
            "                                                                                                  \n",
            " conv3_block4_1_pad (ZeroPaddin  (None, 30, 30, 128)  0          ['conv3_block4_1_bn[0][0]']      \n",
            " g2D)                                                                                             \n",
            "                                                                                                  \n",
            " conv3_block4_1_conv (Conv2D)   (None, 28, 28, 128)  147456      ['conv3_block4_1_pad[0][0]']     \n",
            "                                                                                                  \n",
            " conv3_block4_2_bn (BatchNormal  (None, 28, 28, 128)  512        ['conv3_block4_1_conv[0][0]']    \n",
            " ization)                                                                                         \n",
            "                                                                                                  \n",
            " conv3_block4_1_prelu (PReLU)   (None, 28, 28, 128)  128         ['conv3_block4_2_bn[0][0]']      \n",
            "                                                                                                  \n",
            " conv3_block4_2_pad (ZeroPaddin  (None, 30, 30, 128)  0          ['conv3_block4_1_prelu[0][0]']   \n",
            " g2D)                                                                                             \n",
            "                                                                                                  \n",
            " conv3_block4_2_conv (Conv2D)   (None, 28, 28, 128)  147456      ['conv3_block4_2_pad[0][0]']     \n",
            "                                                                                                  \n",
            " conv3_block4_3_bn (BatchNormal  (None, 28, 28, 128)  512        ['conv3_block4_2_conv[0][0]']    \n",
            " ization)                                                                                         \n",
            "                                                                                                  \n",
            " conv3_block4_add (Add)         (None, 28, 28, 128)  0           ['conv3_block3_add[0][0]',       \n",
            "                                                                  'conv3_block4_3_bn[0][0]']      \n",
            "                                                                                                  \n",
            " conv4_block1_1_bn (BatchNormal  (None, 28, 28, 128)  512        ['conv3_block4_add[0][0]']       \n",
            " ization)                                                                                         \n",
            "                                                                                                  \n",
            " conv4_block1_1_pad (ZeroPaddin  (None, 30, 30, 128)  0          ['conv4_block1_1_bn[0][0]']      \n",
            " g2D)                                                                                             \n",
            "                                                                                                  \n",
            " conv4_block1_1_conv (Conv2D)   (None, 28, 28, 256)  294912      ['conv4_block1_1_pad[0][0]']     \n",
            "                                                                                                  \n",
            " conv4_block1_2_bn (BatchNormal  (None, 28, 28, 256)  1024       ['conv4_block1_1_conv[0][0]']    \n",
            " ization)                                                                                         \n",
            "                                                                                                  \n",
            " conv4_block1_1_prelu (PReLU)   (None, 28, 28, 256)  256         ['conv4_block1_2_bn[0][0]']      \n",
            "                                                                                                  \n",
            " conv4_block1_2_pad (ZeroPaddin  (None, 30, 30, 256)  0          ['conv4_block1_1_prelu[0][0]']   \n",
            " g2D)                                                                                             \n",
            "                                                                                                  \n",
            " conv4_block1_0_conv (Conv2D)   (None, 14, 14, 256)  32768       ['conv3_block4_add[0][0]']       \n",
            "                                                                                                  \n",
            " conv4_block1_2_conv (Conv2D)   (None, 14, 14, 256)  589824      ['conv4_block1_2_pad[0][0]']     \n",
            "                                                                                                  \n",
            " conv4_block1_0_bn (BatchNormal  (None, 14, 14, 256)  1024       ['conv4_block1_0_conv[0][0]']    \n",
            " ization)                                                                                         \n",
            "                                                                                                  \n",
            " conv4_block1_3_bn (BatchNormal  (None, 14, 14, 256)  1024       ['conv4_block1_2_conv[0][0]']    \n",
            " ization)                                                                                         \n",
            "                                                                                                  \n",
            " conv4_block1_add (Add)         (None, 14, 14, 256)  0           ['conv4_block1_0_bn[0][0]',      \n",
            "                                                                  'conv4_block1_3_bn[0][0]']      \n",
            "                                                                                                  \n",
            " conv4_block2_1_bn (BatchNormal  (None, 14, 14, 256)  1024       ['conv4_block1_add[0][0]']       \n",
            " ization)                                                                                         \n",
            "                                                                                                  \n",
            " conv4_block2_1_pad (ZeroPaddin  (None, 16, 16, 256)  0          ['conv4_block2_1_bn[0][0]']      \n",
            " g2D)                                                                                             \n",
            "                                                                                                  \n",
            " conv4_block2_1_conv (Conv2D)   (None, 14, 14, 256)  589824      ['conv4_block2_1_pad[0][0]']     \n",
            "                                                                                                  \n",
            " conv4_block2_2_bn (BatchNormal  (None, 14, 14, 256)  1024       ['conv4_block2_1_conv[0][0]']    \n",
            " ization)                                                                                         \n",
            "                                                                                                  \n",
            " conv4_block2_1_prelu (PReLU)   (None, 14, 14, 256)  256         ['conv4_block2_2_bn[0][0]']      \n",
            "                                                                                                  \n",
            " conv4_block2_2_pad (ZeroPaddin  (None, 16, 16, 256)  0          ['conv4_block2_1_prelu[0][0]']   \n",
            " g2D)                                                                                             \n",
            "                                                                                                  \n",
            " conv4_block2_2_conv (Conv2D)   (None, 14, 14, 256)  589824      ['conv4_block2_2_pad[0][0]']     \n",
            "                                                                                                  \n",
            " conv4_block2_3_bn (BatchNormal  (None, 14, 14, 256)  1024       ['conv4_block2_2_conv[0][0]']    \n",
            " ization)                                                                                         \n",
            "                                                                                                  \n",
            " conv4_block2_add (Add)         (None, 14, 14, 256)  0           ['conv4_block1_add[0][0]',       \n",
            "                                                                  'conv4_block2_3_bn[0][0]']      \n",
            "                                                                                                  \n",
            " conv4_block3_1_bn (BatchNormal  (None, 14, 14, 256)  1024       ['conv4_block2_add[0][0]']       \n",
            " ization)                                                                                         \n",
            "                                                                                                  \n",
            " conv4_block3_1_pad (ZeroPaddin  (None, 16, 16, 256)  0          ['conv4_block3_1_bn[0][0]']      \n",
            " g2D)                                                                                             \n",
            "                                                                                                  \n",
            " conv4_block3_1_conv (Conv2D)   (None, 14, 14, 256)  589824      ['conv4_block3_1_pad[0][0]']     \n",
            "                                                                                                  \n",
            " conv4_block3_2_bn (BatchNormal  (None, 14, 14, 256)  1024       ['conv4_block3_1_conv[0][0]']    \n",
            " ization)                                                                                         \n",
            "                                                                                                  \n",
            " conv4_block3_1_prelu (PReLU)   (None, 14, 14, 256)  256         ['conv4_block3_2_bn[0][0]']      \n",
            "                                                                                                  \n",
            " conv4_block3_2_pad (ZeroPaddin  (None, 16, 16, 256)  0          ['conv4_block3_1_prelu[0][0]']   \n",
            " g2D)                                                                                             \n",
            "                                                                                                  \n",
            " conv4_block3_2_conv (Conv2D)   (None, 14, 14, 256)  589824      ['conv4_block3_2_pad[0][0]']     \n",
            "                                                                                                  \n",
            " conv4_block3_3_bn (BatchNormal  (None, 14, 14, 256)  1024       ['conv4_block3_2_conv[0][0]']    \n",
            " ization)                                                                                         \n",
            "                                                                                                  \n",
            " conv4_block3_add (Add)         (None, 14, 14, 256)  0           ['conv4_block2_add[0][0]',       \n",
            "                                                                  'conv4_block3_3_bn[0][0]']      \n",
            "                                                                                                  \n",
            " conv4_block4_1_bn (BatchNormal  (None, 14, 14, 256)  1024       ['conv4_block3_add[0][0]']       \n",
            " ization)                                                                                         \n",
            "                                                                                                  \n",
            " conv4_block4_1_pad (ZeroPaddin  (None, 16, 16, 256)  0          ['conv4_block4_1_bn[0][0]']      \n",
            " g2D)                                                                                             \n",
            "                                                                                                  \n",
            " conv4_block4_1_conv (Conv2D)   (None, 14, 14, 256)  589824      ['conv4_block4_1_pad[0][0]']     \n",
            "                                                                                                  \n",
            " conv4_block4_2_bn (BatchNormal  (None, 14, 14, 256)  1024       ['conv4_block4_1_conv[0][0]']    \n",
            " ization)                                                                                         \n",
            "                                                                                                  \n",
            " conv4_block4_1_prelu (PReLU)   (None, 14, 14, 256)  256         ['conv4_block4_2_bn[0][0]']      \n",
            "                                                                                                  \n",
            " conv4_block4_2_pad (ZeroPaddin  (None, 16, 16, 256)  0          ['conv4_block4_1_prelu[0][0]']   \n",
            " g2D)                                                                                             \n",
            "                                                                                                  \n",
            " conv4_block4_2_conv (Conv2D)   (None, 14, 14, 256)  589824      ['conv4_block4_2_pad[0][0]']     \n",
            "                                                                                                  \n",
            " conv4_block4_3_bn (BatchNormal  (None, 14, 14, 256)  1024       ['conv4_block4_2_conv[0][0]']    \n",
            " ization)                                                                                         \n",
            "                                                                                                  \n",
            " conv4_block4_add (Add)         (None, 14, 14, 256)  0           ['conv4_block3_add[0][0]',       \n",
            "                                                                  'conv4_block4_3_bn[0][0]']      \n",
            "                                                                                                  \n",
            " conv4_block5_1_bn (BatchNormal  (None, 14, 14, 256)  1024       ['conv4_block4_add[0][0]']       \n",
            " ization)                                                                                         \n",
            "                                                                                                  \n",
            " conv4_block5_1_pad (ZeroPaddin  (None, 16, 16, 256)  0          ['conv4_block5_1_bn[0][0]']      \n",
            " g2D)                                                                                             \n",
            "                                                                                                  \n",
            " conv4_block5_1_conv (Conv2D)   (None, 14, 14, 256)  589824      ['conv4_block5_1_pad[0][0]']     \n",
            "                                                                                                  \n",
            " conv4_block5_2_bn (BatchNormal  (None, 14, 14, 256)  1024       ['conv4_block5_1_conv[0][0]']    \n",
            " ization)                                                                                         \n",
            "                                                                                                  \n",
            " conv4_block5_1_prelu (PReLU)   (None, 14, 14, 256)  256         ['conv4_block5_2_bn[0][0]']      \n",
            "                                                                                                  \n",
            " conv4_block5_2_pad (ZeroPaddin  (None, 16, 16, 256)  0          ['conv4_block5_1_prelu[0][0]']   \n",
            " g2D)                                                                                             \n",
            "                                                                                                  \n",
            " conv4_block5_2_conv (Conv2D)   (None, 14, 14, 256)  589824      ['conv4_block5_2_pad[0][0]']     \n",
            "                                                                                                  \n",
            " conv4_block5_3_bn (BatchNormal  (None, 14, 14, 256)  1024       ['conv4_block5_2_conv[0][0]']    \n",
            " ization)                                                                                         \n",
            "                                                                                                  \n",
            " conv4_block5_add (Add)         (None, 14, 14, 256)  0           ['conv4_block4_add[0][0]',       \n",
            "                                                                  'conv4_block5_3_bn[0][0]']      \n",
            "                                                                                                  \n",
            " conv4_block6_1_bn (BatchNormal  (None, 14, 14, 256)  1024       ['conv4_block5_add[0][0]']       \n",
            " ization)                                                                                         \n",
            "                                                                                                  \n",
            " conv4_block6_1_pad (ZeroPaddin  (None, 16, 16, 256)  0          ['conv4_block6_1_bn[0][0]']      \n",
            " g2D)                                                                                             \n",
            "                                                                                                  \n",
            " conv4_block6_1_conv (Conv2D)   (None, 14, 14, 256)  589824      ['conv4_block6_1_pad[0][0]']     \n",
            "                                                                                                  \n",
            " conv4_block6_2_bn (BatchNormal  (None, 14, 14, 256)  1024       ['conv4_block6_1_conv[0][0]']    \n",
            " ization)                                                                                         \n",
            "                                                                                                  \n",
            " conv4_block6_1_prelu (PReLU)   (None, 14, 14, 256)  256         ['conv4_block6_2_bn[0][0]']      \n",
            "                                                                                                  \n",
            " conv4_block6_2_pad (ZeroPaddin  (None, 16, 16, 256)  0          ['conv4_block6_1_prelu[0][0]']   \n",
            " g2D)                                                                                             \n",
            "                                                                                                  \n",
            " conv4_block6_2_conv (Conv2D)   (None, 14, 14, 256)  589824      ['conv4_block6_2_pad[0][0]']     \n",
            "                                                                                                  \n",
            " conv4_block6_3_bn (BatchNormal  (None, 14, 14, 256)  1024       ['conv4_block6_2_conv[0][0]']    \n",
            " ization)                                                                                         \n",
            "                                                                                                  \n",
            " conv4_block6_add (Add)         (None, 14, 14, 256)  0           ['conv4_block5_add[0][0]',       \n",
            "                                                                  'conv4_block6_3_bn[0][0]']      \n",
            "                                                                                                  \n",
            " conv5_block1_1_bn (BatchNormal  (None, 14, 14, 256)  1024       ['conv4_block6_add[0][0]']       \n",
            " ization)                                                                                         \n",
            "                                                                                                  \n",
            " conv5_block1_1_pad (ZeroPaddin  (None, 16, 16, 256)  0          ['conv5_block1_1_bn[0][0]']      \n",
            " g2D)                                                                                             \n",
            "                                                                                                  \n",
            " conv5_block1_1_conv (Conv2D)   (None, 14, 14, 512)  1179648     ['conv5_block1_1_pad[0][0]']     \n",
            "                                                                                                  \n",
            " conv5_block1_2_bn (BatchNormal  (None, 14, 14, 512)  2048       ['conv5_block1_1_conv[0][0]']    \n",
            " ization)                                                                                         \n",
            "                                                                                                  \n",
            " conv5_block1_1_prelu (PReLU)   (None, 14, 14, 512)  512         ['conv5_block1_2_bn[0][0]']      \n",
            "                                                                                                  \n",
            " conv5_block1_2_pad (ZeroPaddin  (None, 16, 16, 512)  0          ['conv5_block1_1_prelu[0][0]']   \n",
            " g2D)                                                                                             \n",
            "                                                                                                  \n",
            " conv5_block1_0_conv (Conv2D)   (None, 7, 7, 512)    131072      ['conv4_block6_add[0][0]']       \n",
            "                                                                                                  \n",
            " conv5_block1_2_conv (Conv2D)   (None, 7, 7, 512)    2359296     ['conv5_block1_2_pad[0][0]']     \n",
            "                                                                                                  \n",
            " conv5_block1_0_bn (BatchNormal  (None, 7, 7, 512)   2048        ['conv5_block1_0_conv[0][0]']    \n",
            " ization)                                                                                         \n",
            "                                                                                                  \n",
            " conv5_block1_3_bn (BatchNormal  (None, 7, 7, 512)   2048        ['conv5_block1_2_conv[0][0]']    \n",
            " ization)                                                                                         \n",
            "                                                                                                  \n",
            " conv5_block1_add (Add)         (None, 7, 7, 512)    0           ['conv5_block1_0_bn[0][0]',      \n",
            "                                                                  'conv5_block1_3_bn[0][0]']      \n",
            "                                                                                                  \n",
            " conv5_block2_1_bn (BatchNormal  (None, 7, 7, 512)   2048        ['conv5_block1_add[0][0]']       \n",
            " ization)                                                                                         \n",
            "                                                                                                  \n",
            " conv5_block2_1_pad (ZeroPaddin  (None, 9, 9, 512)   0           ['conv5_block2_1_bn[0][0]']      \n",
            " g2D)                                                                                             \n",
            "                                                                                                  \n",
            " conv5_block2_1_conv (Conv2D)   (None, 7, 7, 512)    2359296     ['conv5_block2_1_pad[0][0]']     \n",
            "                                                                                                  \n",
            " conv5_block2_2_bn (BatchNormal  (None, 7, 7, 512)   2048        ['conv5_block2_1_conv[0][0]']    \n",
            " ization)                                                                                         \n",
            "                                                                                                  \n",
            " conv5_block2_1_prelu (PReLU)   (None, 7, 7, 512)    512         ['conv5_block2_2_bn[0][0]']      \n",
            "                                                                                                  \n",
            " conv5_block2_2_pad (ZeroPaddin  (None, 9, 9, 512)   0           ['conv5_block2_1_prelu[0][0]']   \n",
            " g2D)                                                                                             \n",
            "                                                                                                  \n",
            " conv5_block2_2_conv (Conv2D)   (None, 7, 7, 512)    2359296     ['conv5_block2_2_pad[0][0]']     \n",
            "                                                                                                  \n",
            " conv5_block2_3_bn (BatchNormal  (None, 7, 7, 512)   2048        ['conv5_block2_2_conv[0][0]']    \n",
            " ization)                                                                                         \n",
            "                                                                                                  \n",
            " conv5_block2_add (Add)         (None, 7, 7, 512)    0           ['conv5_block1_add[0][0]',       \n",
            "                                                                  'conv5_block2_3_bn[0][0]']      \n",
            "                                                                                                  \n",
            " conv5_block3_1_bn (BatchNormal  (None, 7, 7, 512)   2048        ['conv5_block2_add[0][0]']       \n",
            " ization)                                                                                         \n",
            "                                                                                                  \n",
            " conv5_block3_1_pad (ZeroPaddin  (None, 9, 9, 512)   0           ['conv5_block3_1_bn[0][0]']      \n",
            " g2D)                                                                                             \n",
            "                                                                                                  \n",
            " conv5_block3_1_conv (Conv2D)   (None, 7, 7, 512)    2359296     ['conv5_block3_1_pad[0][0]']     \n",
            "                                                                                                  \n",
            " conv5_block3_2_bn (BatchNormal  (None, 7, 7, 512)   2048        ['conv5_block3_1_conv[0][0]']    \n",
            " ization)                                                                                         \n",
            "                                                                                                  \n",
            " conv5_block3_1_prelu (PReLU)   (None, 7, 7, 512)    512         ['conv5_block3_2_bn[0][0]']      \n",
            "                                                                                                  \n",
            " conv5_block3_2_pad (ZeroPaddin  (None, 9, 9, 512)   0           ['conv5_block3_1_prelu[0][0]']   \n",
            " g2D)                                                                                             \n",
            "                                                                                                  \n",
            " conv5_block3_2_conv (Conv2D)   (None, 7, 7, 512)    2359296     ['conv5_block3_2_pad[0][0]']     \n",
            "                                                                                                  \n",
            " conv5_block3_3_bn (BatchNormal  (None, 7, 7, 512)   2048        ['conv5_block3_2_conv[0][0]']    \n",
            " ization)                                                                                         \n",
            "                                                                                                  \n",
            " conv5_block3_add (Add)         (None, 7, 7, 512)    0           ['conv5_block2_add[0][0]',       \n",
            "                                                                  'conv5_block3_3_bn[0][0]']      \n",
            "                                                                                                  \n",
            " batch_normalization (BatchNorm  (None, 7, 7, 512)   2048        ['conv5_block3_add[0][0]']       \n",
            " alization)                                                                                       \n",
            "                                                                                                  \n",
            " dropout (Dropout)              (None, 7, 7, 512)    0           ['batch_normalization[0][0]']    \n",
            "                                                                                                  \n",
            " flatten (Flatten)              (None, 25088)        0           ['dropout[0][0]']                \n",
            "                                                                                                  \n",
            " dense (Dense)                  (None, 512)          12845568    ['flatten[0][0]']                \n",
            "                                                                                                  \n",
            " embedding (BatchNormalization)  (None, 512)         2048        ['dense[0][0]']                  \n",
            "                                                                                                  \n",
            "==================================================================================================\n",
            "Total params: 34,165,184\n",
            "Trainable params: 34,139,328\n",
            "Non-trainable params: 25,856\n",
            "__________________________________________________________________________________________________\n"
          ]
        }
      ],
      "source": [
        "model.summary() \n",
        "# tf.keras.utils.plot_model(model, to_file=\"demo.png\", show_shapes=True)"
      ]
    },
    {
      "cell_type": "markdown",
      "metadata": {
        "id": "nEB2GPvuH8HQ"
      },
      "source": [
        "##Testset-preprocessing"
      ]
    },
    {
      "cell_type": "markdown",
      "metadata": {
        "id": "lnZ-RRT-WM8E"
      },
      "source": [
        "###Cosine distance"
      ]
    },
    {
      "cell_type": "code",
      "execution_count": null,
      "metadata": {
        "id": "43QN19E4WMir"
      },
      "outputs": [],
      "source": [
        "#flag == 1: same person\n",
        "#flag == 0: different person\n",
        "#flag == 0.5: using LBP to recognize person\n",
        "\n",
        "def findCosineDistance(source_representation, test_representation):\n",
        "    flag = 0\n",
        "    a = np.matmul(np.transpose(source_representation), test_representation)\n",
        "    b = np.sum(np.multiply(source_representation, source_representation))\n",
        "    c = np.sum(np.multiply(test_representation, test_representation))\n",
        "    dist = 1 - (a / (np.sqrt(b) * np.sqrt(c)))\n",
        "    # print(\"cosine similarity: \", dist)\n",
        "    #similarity threshold\n",
        "    if dist >= 0 and dist < 0.3: flag = 1\n",
        "    elif dist >= 0.3 and dist < 0.7: flag = 0.5\n",
        "    else: flag = 0\n",
        "    return flag\n",
        "\n",
        "def findCosine_lite(a, b):\n",
        "  a = np.array(a)\n",
        "  b = np.array(b)\n",
        "  dist = 1 - np.dot(a, b)\n",
        "  return dist"
      ]
    },
    {
      "cell_type": "markdown",
      "metadata": {
        "id": "HNBS4YoBZU5U"
      },
      "source": [
        "###Loading image"
      ]
    },
    {
      "cell_type": "code",
      "execution_count": null,
      "metadata": {
        "id": "jmpSA3kMnUn7"
      },
      "outputs": [],
      "source": [
        "import os\n",
        "import numpy as np\n",
        "import pandas as pd\n",
        "import cv2\n",
        "import base64\n",
        "from pathlib import Path\n",
        "from PIL import Image\n",
        "import requests\n",
        "from tensorflow import keras\n",
        "from tensorflow.keras.preprocessing.image import load_img, save_img, img_to_array\n",
        "from tensorflow.keras.applications.imagenet_utils import preprocess_input\n",
        "from tensorflow.keras.preprocessing import image as img_process\n",
        "\n",
        "def load_image(img):\n",
        "\texact_image = False; base64_img = False; url_img = False\n",
        "\n",
        "\tif type(img).__module__ == np.__name__:\n",
        "\t\texact_image = True\n",
        "\n",
        "\telif len(img) > 11 and img[0:11] == \"data:image/\":\n",
        "\t\tbase64_img = True\n",
        "\n",
        "\telif len(img) > 11 and img.startswith(\"http\"):\n",
        "\t\turl_img = True\n",
        "\n",
        "\t#---------------------------\n",
        "\n",
        "\tif base64_img == True:\n",
        "\t\timg = loadBase64Img(img)\n",
        "\n",
        "\telif url_img:\n",
        "\t\timg = np.array(Image.open(requests.get(img, stream=True).raw).convert('RGB'))\n",
        "\n",
        "\telif exact_image != True: #image path passed as input\n",
        "\t\tif os.path.isfile(img) != True:\n",
        "\t\t\traise ValueError(\"Confirm that \",img,\" exists\")\n",
        "\n",
        "\t\timg = cv2.imread(img)\n",
        "\n",
        "\treturn img\n",
        "\n",
        "\n",
        "def preprocess_img(img, target_size=(112, 112), \n",
        "                   grayscale=False,\n",
        "                   enforce_detection=True,\n",
        "                   detector_backend='retinaface',\n",
        "                   return_region=False,\n",
        "                   align=True):\n",
        "  img = load_image(img)\n",
        "  base_img = img.copy()\n",
        "\n",
        "  # img, region = detect_face(img = img,\n",
        "  #                           detector_backend = detector_backend, \n",
        "  #                           grayscale = grayscale, \n",
        "  #                           enforce_detection = enforce_detection, \n",
        "  #                           align = align)\n",
        "\n",
        "\t#--------------------------\n",
        "\n",
        "  if img.shape[0] == 0 or img.shape[1] == 0:\n",
        "    if enforce_detection == True:\n",
        "      raise ValueError(\"Detected face shape is \", img.shape,\n",
        "                    \". Consider to set enforce_detection argument to False.\")\n",
        "    else: #restore base image\n",
        "      img = base_img.copy()\n",
        "#---------------------------------------------------------------\n",
        "\n",
        "  #extract face from images\n",
        "  (h, w) = img.shape[:2]\n",
        "  blob = cv2.dnn.blobFromImage(cv2.resize(img, (112, 112)), 1.0, (112, 112), (104.0, 177.0, 123.0))\n",
        "  protopath = \"/content/Create-Face-Data-from-Images/model_data/deploy.prototxt\"\n",
        "  weightpath = \"/content/Create-Face-Data-from-Images/model_data/weights.caffemodel\"\n",
        "  model = cv2.dnn.readNetFromCaffe(protopath, weightpath)\n",
        "\n",
        "  model.setInput(blob)\n",
        "  detections = model.forward()\n",
        "  \n",
        "  for i in range(0, detections.shape[2]):\n",
        "    box = detections[0, 0, i, 3:7] * np.array([w, h, w, h])\n",
        "    (startX, startY, endX, endY) = box.astype(\"int\")\n",
        "\n",
        "    confidence = detections[0, 0, i, 2]\n",
        "\n",
        "    # If confidence > 0.5, show box around face\n",
        "    if (confidence > 0.5):\n",
        "      cv2.rectangle(img, (startX, startY), (endX, endY), (255, 255, 255), 2)\n",
        "\n",
        "  for i in range(0, detections.shape[2]):\n",
        "    box = detections[0, 0, i, 3:7] * np.array([w, h, w, h])\n",
        "    (startX, startY, endX, endY) = box.astype(\"int\")\n",
        "\n",
        "    confidence = detections[0, 0, i, 2]\n",
        "\n",
        "    # If confidence > 0.5, save it as a separate file\n",
        "    if (confidence > 0.5):\n",
        "      img = img[startY:endY, startX:endX]\n",
        "  frame = img.copy()\n",
        "\t#--------------------------\n",
        "\n",
        "\t#post-processing\n",
        "  if grayscale == True:\n",
        "    img = cv2.cvtColor(img, cv2.COLOR_BGR2GRAY)\n",
        "\n",
        "\t#---------------------------------------------------\n",
        "\t#resize image to expected shape\n",
        "\n",
        "\n",
        "  if img.shape[0] > 0 and img.shape[1] > 0:\n",
        "    factor_0 = target_size[0] / img.shape[0]\n",
        "    factor_1 = target_size[1] / img.shape[1]\n",
        "    factor = min(factor_0, factor_1)\n",
        "\n",
        "    dsize = (int(img.shape[1] * factor), int(img.shape[0] * factor))\n",
        "    img = cv2.resize(img, dsize)\n",
        "\n",
        "    # Then pad the other side to the target size by adding black pixels\n",
        "    diff_0 = target_size[0] - img.shape[0]\n",
        "    diff_1 = target_size[1] - img.shape[1]\n",
        "    if grayscale == False:\n",
        "\t\t\t# Put the base image in the middle of the padded image\n",
        "      img = np.pad(img, ((diff_0 // 2, diff_0 - diff_0 // 2), \n",
        "                      (diff_1 // 2, diff_1 - diff_1 // 2), (0, 0)), 'constant')\n",
        "    else:\n",
        "      img = np.pad(img, ((diff_0 // 2, diff_0 - diff_0 // 2), \n",
        "                      (diff_1 // 2, diff_1 - diff_1 // 2)), 'constant')\n",
        "\n",
        "\t#------------------------------------------\n",
        "\n",
        "\t#double check: if target image is not still the same size with target.\n",
        "  if img.shape[0:2] != target_size:\n",
        "    img = cv2.resize(img, target_size)\n",
        "\n",
        "\t#---------------------------------------------------\n",
        "\t#normalizing the image pixels\n",
        "\n",
        "  img_pixels = img_process.img_to_array(img) #what this line doing? must?\n",
        "  img_pixels = np.expand_dims(img_pixels, axis = 0)\n",
        "  img_pixels /= 255 #normalize input in [0, 1]\n",
        "\n",
        "\t#---------------------------------------------------\n",
        "\n",
        "\t# if return_region == True:\n",
        "\t# \treturn img_pixels, region\n",
        "\t# else:\n",
        "  return img_pixels, frame, base_img\n",
        "\n",
        "def forward_image(img_path):\n",
        "  \n",
        "  img = preprocess_img(img_path, target_size=(112, 112))\n",
        "  return img"
      ]
    },
    {
      "cell_type": "markdown",
      "metadata": {
        "id": "L9nCijfJI3Na"
      },
      "source": [
        "Next: Create threshold Dmax = 0.35, if sim < Dmax => same person. If Dmax < sim < 0.7 => using LBP eyebrows. outside this bound will not be considered"
      ]
    },
    {
      "cell_type": "markdown",
      "metadata": {
        "id": "nLwIImZAZgz8"
      },
      "source": [
        "##**Test model with test images**"
      ]
    },
    {
      "cell_type": "code",
      "execution_count": null,
      "metadata": {
        "id": "M5p-gQb1Lmxh"
      },
      "outputs": [],
      "source": [
        "# img1_path = \"/content/COMASK20/dataset/A_Testset/1/IMG_5288_120-with-mask.jpg\"\n",
        "# img2_path = \"/content/COMASK20/dataset/A_Testset/10/Screenshot from 2020-07-09 11-10-06_nomask.png\"\n"
      ]
    },
    {
      "cell_type": "markdown",
      "metadata": {
        "id": "cc5eaumCJBd9"
      },
      "source": [
        "#####test load images with ImageDataGenerator()"
      ]
    },
    {
      "cell_type": "code",
      "execution_count": null,
      "metadata": {
        "id": "ThyVcGg4IffV"
      },
      "outputs": [],
      "source": [
        "# from tensorflow.keras.preprocessing.image import ImageDataGenerator\n",
        "\n",
        "# datagen = ImageDataGenerator(rescale=1.0/255.0)\n",
        "# test_data = datagen.flow_from_directory('/content/', target_size=(112,112))\n",
        "# img_embedding = model.predict(test_data)\n",
        "# img_embedding.shape"
      ]
    },
    {
      "cell_type": "code",
      "execution_count": null,
      "metadata": {
        "id": "JCw16petQf6F"
      },
      "outputs": [],
      "source": [
        "# img1_embedding = model.predict(forward_image(img1_path))[0]\n",
        "# img2_embedding = model.predict(forward_image(img2_path))[0]"
      ]
    },
    {
      "cell_type": "code",
      "execution_count": null,
      "metadata": {
        "id": "Hp2DGXaNm_cU"
      },
      "outputs": [],
      "source": [
        "# sim = findCosineDistance(img1_embedding, img2_embedding)\n",
        "# sim"
      ]
    },
    {
      "cell_type": "markdown",
      "metadata": {
        "id": "TmpIu01aPwvW"
      },
      "source": [
        "####Plot images and do verifying task"
      ]
    },
    {
      "cell_type": "code",
      "execution_count": null,
      "metadata": {
        "id": "PHXygb3iQDoj"
      },
      "outputs": [],
      "source": [
        "def plot_images(img1, img2, sentence=str):\n",
        "  import matplotlib.pyplot as plt\n",
        "  # img1 = plt.imread(img1_path)\n",
        "  # img2 = plt.imread(img2_path)\n",
        "  fig = plt.figure(figsize=(5, 5))\n",
        "  rows = 2\n",
        "  columns = 2\n",
        "  \n",
        "  fig.add_subplot(rows, columns, 1)\n",
        "\n",
        "  # showing image\n",
        "  plt.imshow(cv2.cvtColor(img1, cv2.COLOR_BGR2RGB))\n",
        "  plt.axis('off')\n",
        "  plt.title(sentence)\n",
        "    \n",
        "  # Adds a subplot at the 2nd position\n",
        "  fig.add_subplot(rows, columns, 2)\n",
        "    \n",
        "  # showing image\n",
        "  plt.imshow(cv2.cvtColor(img2, cv2.COLOR_BGR2RGB))\n",
        "  plt.axis('off')\n",
        "  # plt.title(\"Second\")\n",
        "  # Verify person with Cosine distance\n",
        "  # dist_emb = findCosineDistance(img1_embedding, img2_embedding)\n",
        "  "
      ]
    },
    {
      "cell_type": "markdown",
      "metadata": {
        "id": "7PMvZGABHKzg"
      },
      "source": [
        "------------------------------------------------------------------------"
      ]
    },
    {
      "cell_type": "markdown",
      "metadata": {
        "id": "BsyYc4LwP6lY"
      },
      "source": [
        "_____________________________________________________________________________"
      ]
    },
    {
      "cell_type": "markdown",
      "metadata": {
        "id": "zqiz8Qox9Qfu"
      },
      "source": [
        "##Local Binary Pattern"
      ]
    },
    {
      "cell_type": "markdown",
      "metadata": {
        "id": "fA_MRsXI9WSk"
      },
      "source": [
        "###Calculate LBP and Encode Image into LBP"
      ]
    },
    {
      "cell_type": "code",
      "execution_count": null,
      "metadata": {
        "id": "-2cPPuRw9U39"
      },
      "outputs": [],
      "source": [
        "import cv2 \n",
        "import numpy as np \n",
        "\n",
        "def calculate_LBP(img):\n",
        "  # img = cv2.imread(img_path)\n",
        "  def assign_bit(image, x, y, c):   #comparing bit with threshold value of centre pixel\n",
        "      bit = 0  \n",
        "      try:          \n",
        "          if image[x][y] >= c: \n",
        "              bit = 1         \n",
        "      except: \n",
        "          pass\n",
        "      return bit \n",
        "  def local_bin_val(image, x, y):  #calculating local binary pattern value of a pixel\n",
        "      eight_bit_binary = []\n",
        "      centre = image[x][y] \n",
        "      powers = [1, 2, 4, 8, 16, 32, 64, 128] \n",
        "      decimal_val = 0\n",
        "      #starting from top right,assigning bit to pixels clockwise \n",
        "      eight_bit_binary.append(assign_bit(image, x-1, y + 1,centre)) \n",
        "      eight_bit_binary.append(assign_bit(image, x, y + 1, centre)) \n",
        "      eight_bit_binary.append(assign_bit(image, x + 1, y + 1, centre)) \n",
        "      eight_bit_binary.append(assign_bit(image, x + 1, y, centre)) \n",
        "      eight_bit_binary.append(assign_bit(image, x + 1, y-1, centre)) \n",
        "      eight_bit_binary.append(assign_bit(image, x, y-1, centre)) \n",
        "      eight_bit_binary.append(assign_bit(image, x-1, y-1, centre)) \n",
        "      eight_bit_binary.append(assign_bit(image, x-1, y, centre))     \n",
        "      #calculating decimal value of the 8-bit binary number\n",
        "      for i in range(len(eight_bit_binary)): \n",
        "          decimal_val += eight_bit_binary[i] * powers[i] \n",
        "            \n",
        "      return decimal_val \n",
        "  m, n, _ = img.shape \n",
        "  gray_scale = cv2.cvtColor(img, cv2.COLOR_BGR2GRAY)  #converting image to grayscale\n",
        "  lbp_img = np.zeros((m, n),np.uint8) \n",
        "  # converting image to lbp\n",
        "  for i in range(0,m): \n",
        "      for j in range(0,n): \n",
        "          lbp_img[i, j] = local_bin_val(gray_scale, i, j) \n",
        " \n",
        "  n_bins1 = int(lbp_img.max() + 1)\n",
        "  hist, _ = np.histogram(lbp_img, density=True, bins=n_bins1, range=(0, n_bins1))\n",
        "  return hist, lbp_img"
      ]
    },
    {
      "cell_type": "markdown",
      "metadata": {
        "id": "bXXlaVV99gwZ"
      },
      "source": [
        "###Extract ROI using Dlib"
      ]
    },
    {
      "cell_type": "code",
      "execution_count": null,
      "metadata": {
        "colab": {
          "base_uri": "https://localhost:8080/"
        },
        "id": "NB9Y8RCxApuo",
        "outputId": "d062f4e2-c130-42c2-8a8c-3978b6a915ce"
      },
      "outputs": [
        {
          "output_type": "stream",
          "name": "stdout",
          "text": [
            "Cloning into 'facial-landmarks-recognition'...\n",
            "remote: Enumerating objects: 8, done.\u001b[K\n",
            "remote: Total 8 (delta 0), reused 0 (delta 0), pack-reused 8\u001b[K\n",
            "Unpacking objects: 100% (8/8), done.\n"
          ]
        }
      ],
      "source": [
        "!git clone https://github.com/italojs/facial-landmarks-recognition"
      ]
    },
    {
      "cell_type": "code",
      "execution_count": null,
      "metadata": {
        "id": "JK6OlnGh9nBL"
      },
      "outputs": [],
      "source": [
        "import imutils\n",
        "from imutils import face_utils \n",
        "import dlib\n",
        "import matplotlib.pyplot as plt\n",
        "from collections import OrderedDict\n",
        "\n",
        "\n",
        "def extract_ROI(img):\n",
        "  face_detect = dlib.get_frontal_face_detector()\n",
        "  landmark_detect = dlib.shape_predictor(\"/content/facial-landmarks-recognition/shape_predictor_68_face_landmarks.dat\")\n",
        "\n",
        "\n",
        "  FACIAL_LANDMARKS_IDXS = OrderedDict([(\"right_eyebrow\", (17, 22)),\n",
        "                                        (\"left_eyebrow\", (22, 27)),\n",
        "                                        (\"right_eye\", (36, 42)),\n",
        "                                        (\"left_eye\", (42, 48))])\n",
        "\n",
        "  #-----------------------------------------------------------------------------#\n",
        "\n",
        "  # from google.colab.patches import cv2_imshow\n",
        "\n",
        "  roi_tuple = []\n",
        "  clone_tuple = []\n",
        "  face = face_detect(img, 1)\n",
        "  # gray = cv2.cvtColor(img1, cv2.COLOR_BGR2GRAY)\n",
        "  for (i, rect) in enumerate(face):\n",
        "    shape = landmark_detect(img, rect)\n",
        "    shape = face_utils.shape_to_np(shape) #convert landmark (x,y) to array\n",
        "\n",
        "    for (name, (i,j)) in FACIAL_LANDMARKS_IDXS.items():\n",
        "      img_clone = img.copy()\n",
        "      # cv2.putText(img_clone, name, (10, 30), cv2.FONT_HERSHEY_SIMPLEX,\n",
        "      #             0.7, (0, 0, 255), 2)\n",
        "      \n",
        "      for (x, y) in shape[i:j]:\n",
        "        cv2.circle(img_clone, (x, y), 3, (0, 255, 0), -1)\n",
        "      (x, y, w, h) = cv2.boundingRect(np.array([shape[i:j]]))\n",
        "      roi = img[y:y + h, x:x + w]\n",
        "      roi = imutils.resize(roi, width=250, inter=cv2.INTER_CUBIC)\n",
        "      roi_tuple.append(roi)\n",
        "      clone_tuple.append(img_clone)\n",
        "\n",
        "  ################################################################################\n",
        "  #extract eye, eyebrow area histogram in LBP format\n",
        "  if len(roi_tuple) != 0:\n",
        "    hist0, img_lbp0 = calculate_LBP(roi_tuple[0])\n",
        "    hist1, img_lbp1 = calculate_LBP(roi_tuple[1])\n",
        "    hist2, img_lbp2 = calculate_LBP(roi_tuple[2])\n",
        "    hist3, img_lbp3 = calculate_LBP(roi_tuple[3])\n",
        "\n",
        "    #convert histogram in list \n",
        "    hist0 = list(hist0)\n",
        "    hist1 = list(hist1)\n",
        "    hist2 = list(hist2)\n",
        "    hist3 = list(hist3)\n",
        "\n",
        "    #concatenate histograms into a histogram\n",
        "    hist = hist0 + hist1 + hist2 + hist3\n",
        "\n",
        "  else: hist, img_lbp = calculate_LBP(img)\n",
        "  \n",
        "  return hist\n"
      ]
    },
    {
      "cell_type": "markdown",
      "metadata": {
        "id": "LE4xjfzbMXTB"
      },
      "source": [
        "##Test Algorithm with COMASK dataset"
      ]
    },
    {
      "cell_type": "code",
      "execution_count": null,
      "metadata": {
        "id": "8dfmYJIgMWEB"
      },
      "outputs": [],
      "source": [
        "dataset_path = \"/content/drive/MyDrive/Colab Notebooks/comask20_testset\""
      ]
    },
    {
      "cell_type": "markdown",
      "metadata": {
        "id": "aghskV38NJM9"
      },
      "source": [
        "load dataset"
      ]
    },
    {
      "cell_type": "code",
      "execution_count": null,
      "metadata": {
        "id": "31BpDkqfNIYn"
      },
      "outputs": [],
      "source": [
        "# from tensorflow.keras.preprocessing.image import ImageDataGenerator\n",
        "\n",
        "# datagen = ImageDataGenerator(rescale=1.0/255.0)\n",
        "# test_data = datagen.flow_from_directory('/content/COMASK20/dataset/A_Testset', target_size=(112,112))"
      ]
    },
    {
      "cell_type": "code",
      "execution_count": null,
      "metadata": {
        "id": "hOR6KeunW_4I"
      },
      "outputs": [],
      "source": [
        "from imutils import paths\n",
        "import numpy as np\n",
        "import cv2\n",
        "import os\n",
        "\n",
        "# face_detect = dlib.get_frontal_face_detector()\n",
        "\n",
        "def load_face_dataset(inputPath, minConfidence=0.5,\n",
        "\tminSamples=1):\n",
        "\t# grab the paths to all images in our input directory, extract\n",
        "\t# the name of the person (i.e., class label) from the directory\n",
        "\t# structure, and count the number of example images we have per\n",
        "\t# face\n",
        "  imagePaths = list(paths.list_images(inputPath))\n",
        "  # print(imagePaths)\n",
        "  names = [p.split(os.path.sep)[-1] for p in imagePaths]\n",
        "  (names, counts) = np.unique(names, return_counts=True)\n",
        "  names = names.tolist()\n",
        "  \n",
        "  faces = [] \n",
        "  labels = []\n",
        "  frames = []\n",
        "  base_imgs = []\n",
        "  for imagepath in imagePaths:\n",
        "    image, frame, base_img = preprocess_img(imagepath, target_size=(112,112))\n",
        "    name = imagepath.split(os.path.sep)[-1]\n",
        "    # print(name)\n",
        "    if counts[names.index(name)] < minSamples:\n",
        "      continue\n",
        "    faces.append(image)\n",
        "    labels.append(name)\n",
        "    frames.append(frame)\n",
        "    base_imgs.append(base_img)\n",
        "\n",
        "  faces = np.array(faces)\n",
        "  labels= np.array(labels)\n",
        "\n",
        "  return faces, labels, frames, base_imgs"
      ]
    },
    {
      "cell_type": "code",
      "execution_count": null,
      "metadata": {
        "id": "yIqFAV_TeslI"
      },
      "outputs": [],
      "source": [
        "faces, labels, frames, base_imgs = load_face_dataset(\"/content/drive/MyDrive/Colab Notebooks/comask20_testset\")"
      ]
    },
    {
      "cell_type": "code",
      "source": [
        "len(frames)"
      ],
      "metadata": {
        "colab": {
          "base_uri": "https://localhost:8080/"
        },
        "id": "6gt3iB7adaBF",
        "outputId": "2df3efc4-2c67-4b4e-eecd-6369025603b0"
      },
      "execution_count": null,
      "outputs": [
        {
          "output_type": "execute_result",
          "data": {
            "text/plain": [
              "101"
            ]
          },
          "metadata": {},
          "execution_count": 21
        }
      ]
    },
    {
      "cell_type": "markdown",
      "metadata": {
        "id": "-4UidACeslau"
      },
      "source": [
        "###Extract facial Embeddings"
      ]
    },
    {
      "cell_type": "code",
      "execution_count": null,
      "metadata": {
        "id": "cQL-Yr8le5PR"
      },
      "outputs": [],
      "source": [
        "#emb0 = model.predict(faces)[0]\n",
        "# emb1 = model.predict(faces[18])[0]\n",
        "embeddings = []\n",
        "flags = []\n",
        "for i in faces:\n",
        "  embedding = model.predict(i)[0]\n",
        "  embeddings.append(embedding)\n"
      ]
    },
    {
      "cell_type": "markdown",
      "metadata": {
        "id": "93oKrZe2mkPw"
      },
      "source": [
        "####Peform LBP to recognize faces, which can not be recognize by ResNet\n",
        "*calculate histogram of all faces, and then calculate distance between each pairs, which were stored in the tuple: LBP_faces*\n",
        "\n"
      ]
    },
    {
      "cell_type": "markdown",
      "metadata": {
        "id": "aswxFAqDtSmt"
      },
      "source": [
        "#####extract histogram of all faces (eye, eyebrow regions)\n"
      ]
    },
    {
      "cell_type": "code",
      "source": [
        "labels[3]"
      ],
      "metadata": {
        "colab": {
          "base_uri": "https://localhost:8080/",
          "height": 36
        },
        "id": "6VXngnyte-VY",
        "outputId": "87cd5703-8bfb-4085-cc31-73b5eda4333a"
      },
      "execution_count": null,
      "outputs": [
        {
          "output_type": "execute_result",
          "data": {
            "text/plain": [
              "'B17DCCN610-Nguyễn Văn Toàn-Masked03.jpg'"
            ],
            "application/vnd.google.colaboratory.intrinsic+json": {
              "type": "string"
            }
          },
          "metadata": {},
          "execution_count": 54
        }
      ]
    },
    {
      "cell_type": "code",
      "execution_count": null,
      "metadata": {
        "colab": {
          "base_uri": "https://localhost:8080/",
          "height": 36
        },
        "id": "6AsZTQqXwZms",
        "outputId": "2caa90f8-1ae1-40aa-d162-31587ad9df7e"
      },
      "outputs": [
        {
          "output_type": "execute_result",
          "data": {
            "text/plain": [
              "'B17DCCN610'"
            ],
            "application/vnd.google.colaboratory.intrinsic+json": {
              "type": "string"
            }
          },
          "metadata": {},
          "execution_count": 23
        }
      ],
      "source": [
        "labels[3].partition(\"-\")[0]"
      ]
    },
    {
      "cell_type": "code",
      "execution_count": null,
      "metadata": {
        "id": "Bu5vx61fRXeo",
        "colab": {
          "base_uri": "https://localhost:8080/",
          "height": 36
        },
        "outputId": "d5e079da-d217-4d0c-c353-4c2eac04f177"
      },
      "outputs": [
        {
          "output_type": "execute_result",
          "data": {
            "text/plain": [
              "'B17DCCN610-Nguyễn Văn Toàn-Masked03.jpg'"
            ],
            "application/vnd.google.colaboratory.intrinsic+json": {
              "type": "string"
            }
          },
          "metadata": {},
          "execution_count": 24
        }
      ],
      "source": [
        "labels[3]"
      ]
    },
    {
      "cell_type": "code",
      "execution_count": null,
      "metadata": {
        "id": "hyPZMO3eRKly",
        "colab": {
          "base_uri": "https://localhost:8080/",
          "height": 36
        },
        "outputId": "d8000ae2-fa31-4878-b61b-d2962e630d09"
      },
      "outputs": [
        {
          "output_type": "execute_result",
          "data": {
            "text/plain": [
              "'/IMG_5288_135-with-mask.jpg'"
            ],
            "application/vnd.google.colaboratory.intrinsic+json": {
              "type": "string"
            }
          },
          "metadata": {},
          "execution_count": 83
        }
      ],
      "source": [
        "a = '/content/drive/MyDrive/Colab Notebooks/test/B15DCKT150/IMG_5288_135-with-mask.jpg'\n",
        "c = '/content/drive/MyDrive/Colab Notebooks/test/B15DCKT150/B15DCKT150-NGUYEN-NGOC-SON-MASK02.jpg'\n",
        "b = 'B15DCKT150'\n",
        "c1 = a.partition(b)[-1]\n",
        "c1"
      ]
    },
    {
      "cell_type": "code",
      "source": [
        "b not in c1"
      ],
      "metadata": {
        "colab": {
          "base_uri": "https://localhost:8080/"
        },
        "id": "yQ84RJKwki8t",
        "outputId": "a809877a-7e37-4689-ff0c-5c8362e134f1"
      },
      "execution_count": null,
      "outputs": [
        {
          "output_type": "execute_result",
          "data": {
            "text/plain": [
              "True"
            ]
          },
          "metadata": {},
          "execution_count": 87
        }
      ]
    },
    {
      "cell_type": "code",
      "execution_count": null,
      "metadata": {
        "id": "xHI2f36Jn0_T"
      },
      "outputs": [],
      "source": [
        "hists = []\n",
        "for face in frames:\n",
        "  hist = extract_ROI(face)\n",
        "  hists.append(hist)"
      ]
    },
    {
      "cell_type": "code",
      "execution_count": null,
      "metadata": {
        "id": "uQf7_VrZdGik"
      },
      "outputs": [],
      "source": [
        "#store all cos_distance into a tuple \n",
        "#if cos = 1 and label1 == label2 => True Positive\n",
        "#if cos = 0 and label1 != label2 => True negative\n",
        "#if cos = 0.5, put these faces into a tuple, after that run KNN to choose min distance.\n",
        "\n",
        "label_flags = []  #tuple of ground true, y_test\n",
        "label_flag = 0    #ground true, 2 faces have the same label => label_flag = 1 \n",
        "flags = []    #tuple of y_pred (after finding Cosine similarity)\n",
        "LBP_flags = []      #tuple of faces, which will be classify by using LBP\n",
        "LBP_labels =[] #store labels to use in LBP task\n",
        "\n",
        "for i in range(len(embeddings)):\n",
        "  hist_distances = []\n",
        "  for j in range(len(embeddings) - 1, 0, -1):\n",
        "    if i != j:\n",
        "      flag = findCosineDistance(embeddings[i], embeddings[j])\n",
        "      if flag != 0.5:\n",
        "        flags.append(flag)\n",
        "\n",
        "      elif flag == 0.5 and len(hists) != 0:\n",
        "        if len(hists[i]) == len(hists[j]):\n",
        "          dist = 1 - np.dot(hist[i], hist[j])\n",
        "        else: dist = 10\n",
        "        hist_distances.append(dist)\n",
        "\n",
        "      #store labels for testing prediction  \n",
        "      if labels[i].partition(\"-\")[0] == labels[j].partition(\"-\")[0] and flag != 0.5: \n",
        "        label_flag = 1\n",
        "        label_flags.append(label_flag)\n",
        "      elif labels[i].partition(\"-\")[0] != labels[j].partition(\"-\")[0] and flag != 0.5:\n",
        "        label_flag = 0\n",
        "        label_flags.append(label_flag)\n",
        "      # else: print(\"this face must be verified by LBP\")\n",
        "      # label_flags.append(label_flag)\n",
        "      # label_flag = 0\n",
        "\n",
        "    else: continue  \n",
        "\n",
        "#LBP prediction part\n",
        "  if len(hist_distances) != 0:\n",
        "    min_hist = min(hist_distances)\n",
        "    min_index = hist_distances.index(min_hist)\n",
        "    LBP_flags.append(1)\n",
        "    if labels[min_index].partition(\"-\")[0] == labels[min_index +1].partition(\"-\")[0]: LBP_labels.append(1) #one hist have 2 faces, hist0 = dist(faces[0], faces[1])\n",
        "    else: LBP_labels.append(0)"
      ]
    },
    {
      "cell_type": "markdown",
      "metadata": {
        "id": "OdkZRYNqbcpA"
      },
      "source": [
        "##Accuracy and ROC curve"
      ]
    },
    {
      "cell_type": "markdown",
      "metadata": {
        "id": "ZRDljGmZxWAi"
      },
      "source": [
        "###Accuracy without LBP method"
      ]
    },
    {
      "cell_type": "code",
      "execution_count": null,
      "metadata": {
        "id": "oByNVxLxlVWC",
        "colab": {
          "base_uri": "https://localhost:8080/"
        },
        "outputId": "53d04ba4-3b4a-4c5e-eefd-2667e933b3f1"
      },
      "outputs": [
        {
          "output_type": "stream",
          "name": "stdout",
          "text": [
            "accuracy without LBP is:  0.9642686233849099\n",
            "F1 score without LBPis:  0.5371900826446281\n",
            "\n",
            "\n"
          ]
        },
        {
          "output_type": "display_data",
          "data": {
            "text/plain": [
              "<Figure size 432x288 with 1 Axes>"
            ],
            "image/png": "[encoded data removed]"
          },
          "metadata": {
            "needs_background": "light"
          }
        }
      ],
      "source": [
        "import pandas as pd\n",
        "import numpy as np\n",
        "from sklearn.model_selection import train_test_split\n",
        "from sklearn.linear_model import LogisticRegression\n",
        "from sklearn import metrics\n",
        "from sklearn.metrics import f1_score\n",
        "import matplotlib.pyplot as plt\n",
        "from sklearn.metrics import accuracy_score\n",
        "\n",
        "# a = len([i for i, j in zip(flags, label_flags) if i == j])\n",
        "# b = len(flags)\n",
        "# acc = a/b *100\n",
        "acc = accuracy_score(label_flags, flags)\n",
        "print(\"accuracy without LBP is: \", acc)\n",
        "print(\"F1 score without LBPis: \", f1_score(label_flags, flags))\n",
        "print(\"\\n\")\n",
        "\n",
        "fpr, tpr, _ = metrics.roc_curve(label_flags, flags)\n",
        "auc = metrics.roc_auc_score(label_flags, flags)\n",
        "\n",
        "#create ROC curve\n",
        "plt.plot(fpr,tpr,label=\"AUC=\"+str(auc))\n",
        "plt.title(\"ROC CURVE without LBP\")\n",
        "plt.ylabel('True Positive Rate')\n",
        "plt.xlabel('False Positive Rate')\n",
        "plt.legend(loc=4)\n",
        "plt.show()"
      ]
    },
    {
      "cell_type": "markdown",
      "metadata": {
        "id": "9eD1smMhxhTK"
      },
      "source": [
        "###Accuracy with LBP method"
      ]
    },
    {
      "cell_type": "code",
      "execution_count": null,
      "metadata": {
        "id": "W943vVH6xoO2"
      },
      "outputs": [],
      "source": [
        "total_flags = flags + LBP_flags\n",
        "total_labels = label_flags + LBP_labels"
      ]
    },
    {
      "cell_type": "code",
      "execution_count": null,
      "metadata": {
        "id": "y6Ri9Graxdxl",
        "colab": {
          "base_uri": "https://localhost:8080/"
        },
        "outputId": "93cfbcea-fae6-4bc6-8010-e9384f589f65"
      },
      "outputs": [
        {
          "output_type": "stream",
          "name": "stdout",
          "text": [
            "accuracy with LBP is:  95.83987441130299\n",
            "F1 score with LBP is:  0.5891472868217054\n",
            "\n",
            "\n"
          ]
        },
        {
          "output_type": "display_data",
          "data": {
            "text/plain": [
              "<Figure size 432x288 with 1 Axes>"
            ],
            "image/png": "[encoded data removed]"
          },
          "metadata": {
            "needs_background": "light"
          }
        }
      ],
      "source": [
        "a = len([i for i, j in zip(total_flags, total_labels) if i == j])\n",
        "b = len(total_flags)\n",
        "acc = a/b *100\n",
        "print(\"accuracy with LBP is: \", acc)\n",
        "print(\"F1 score with LBP is: \", f1_score(total_labels, total_flags))\n",
        "print(\"\\n\")\n",
        "fpr, tpr, _ = metrics.roc_curve(total_labels, total_flags)\n",
        "auc = metrics.roc_auc_score(total_labels, total_flags)\n",
        "\n",
        "#create ROC curve\n",
        "plt.plot(fpr,tpr,label=\"AUC=\"+str(auc))\n",
        "plt.title(\"ROC CURVE with LBP\")\n",
        "plt.ylabel('True Positive Rate')\n",
        "plt.xlabel('False Positive Rate')\n",
        "plt.legend(loc=4)\n",
        "plt.show()"
      ]
    },
    {
      "cell_type": "markdown",
      "metadata": {
        "id": "OE0I1wzdcoZ9"
      },
      "source": [
        "#Test with new Metric"
      ]
    },
    {
      "cell_type": "code",
      "execution_count": null,
      "metadata": {
        "id": "uQ1H3fPq-Prk"
      },
      "outputs": [],
      "source": [
        "import os\n",
        "import glob\n",
        "import random\n",
        "import time\n",
        "\n",
        "random.seed(2468)\n",
        "\n",
        "data_path = \"/content/drive/MyDrive/Colab Notebooks/test/\"\n",
        "\n",
        "correct_predictions = 0\n",
        "time_per_prediction = 0\n",
        "start_total = time.time()\n",
        "bad_predictions = []\n",
        "num_prediction = 0\n",
        "acc_per_sets = []\n",
        "\n",
        "for dirname in os.listdir(data_path):\n",
        "  genuine = [file for file in glob.glob(data_path + dirname + \"/*\")[0:6]]\n",
        "  random.shuffle(genuine)\n",
        "  imposter = random.sample([file for file in glob.glob(data_path + dirname + \"/*\")[6:]], 2)\n",
        "\n",
        "  sets = [[imposter[0]] + genuine[0:3], [imposter[1]] + genuine[3:]]\n",
        "  print(\"predicting {}\".format(dirname))\n",
        "  imposter = []\n",
        "  faces = []\n",
        "  embeddings = []\n",
        "  acc_per_set = []\n",
        "  for set in sets:\n",
        "    faces = []\n",
        "    for face in set:\n",
        "      face, frame, base_img = preprocess_img(face, target_size=(112,112))\n",
        "      faces.append(face)\n",
        "    # for face in faces:\n",
        "    #   embedding = model.predict(face)[0]\n",
        "    #   embeddings.append(embedding)\n",
        "    start_pred = time.time()\n",
        "    # TODO add prediction here\n",
        "    time_per_prediction += time.time() - start_pred\n",
        "    for face in faces:\n",
        "      embedding = model.predict(face)[0]\n",
        "      embeddings.append(embedding)\n",
        "    # face, frame, base_img = preprocess_img(set, target_size=(112,112))\n",
        "\n",
        "    for i in range(len(embeddings)):\n",
        "      for j in range(len(embeddings) - 1, 0, -1):\n",
        "        if i != j:\n",
        "          flag = findCosineDistance(embeddings[i], embeddings[j])\n",
        "          if flag == 1 and set[i].partition(\"-\")[0] == set[j].partition(\"-\")[0]:\n",
        "            correct_predictions += 1  # predicted same person and label return same person\n",
        "            num_prediction += 1\n",
        "          \n",
        "          elif flag != 1 and set[i].partition(\"-\")[0] != set[j].partition(\"-\")[0]:\n",
        "            correct_predictions += 1 #predicted not same person and label return not same person => imposter detected\n",
        "            num_prediction += 1\n",
        "          else: \n",
        "            if set not in bad_predictions:\n",
        "              bad_predictions.append(set)\n",
        "              num_prediction += 1  \n",
        "      embeddings = []\n",
        "    acc_per_set.append(correct_predictions / num_prediction)\n",
        "    print(\"Accuracy per set:\", correct_predictions / num_prediction)\n",
        "  acc_per_set_mean = np.mean(acc_per_set)\n",
        "acc_per_sets.append(acc_per_set_mean)\n",
        "  # print(\"accuracy mean per sets\", acc_per_set_mean)\n",
        "\n",
        "    # TODO determine index of imposter and add to imposter list\n",
        "    # if imposter[0] == 0:\n",
        "    #     correct_predictions += 1\n",
        "    # else:\n",
        "    #     bad_predictions.append(sets[0])\n",
        "\n",
        "    # if imposter[1] == 0:\n",
        "    #     correct_predictions += 1\n",
        "    # else:\n",
        "    #     bad_predictions.append(sets[0])\n",
        "\n",
        "    # print(\"Bad predictions: \", bad_predictions)\n",
        "\n",
        "print(\"----------------------------------------\")        \n",
        "print(\"Total time: {}s\\t Prediction time: {}s\\t Mean prediction time per set: {}s\".format(time.time() - start_total, \n",
        "                                                                                        time_per_prediction, time_per_prediction / (len(os.listdir(data_path)) * 2)))\n",
        "print(\"----------------------------------------\")        \n",
        "print(\"total Accuracy of all Test Batches: \", np.mean(acc_per_sets))"
      ]
    },
    {
      "cell_type": "code",
      "source": [
        "import zipfile\n",
        "\n",
        "!unzip /content/drive/MyDrive/Colab Notebooks/test/MLFWTestset.zip \n",
        "zip_ref = zipfile.ZipFile(\"/content/drive/MyDrive/Colab Notebooks/test/MLFWTestset.zip\", 'r')\n",
        "zip_ref.extractall(\"/content/Testset\")\n",
        "zip_ref.close()"
      ],
      "metadata": {
        "colab": {
          "base_uri": "https://localhost:8080/"
        },
        "id": "1yzNOk4n2aUA",
        "outputId": "0971276f-eba0-43b7-da0a-7a06188f21d6"
      },
      "execution_count": 4,
      "outputs": [
        {
          "output_type": "stream",
          "name": "stdout",
          "text": [
            "unzip:  cannot find or open /content/drive/MyDrive/Colab, /content/drive/MyDrive/Colab.zip or /content/drive/MyDrive/Colab.ZIP.\n"
          ]
        }
      ]
    },
    {
      "cell_type": "code",
      "source": [
        "data_path = \"/content/Testset/MLFWTestset/\"\n",
        "\n",
        "for dirname in os.listdir(data_path + \"Genuine\"):\n",
        "  print(\"{}/{} Predicting {}\".format(i+1, iterations, dirname))\n",
        "  genuine_path = data_path + \"Genuine\" + \"/\" + dirname + \"/*\"\n",
        "  imposter_path = data_path + \"Imposter\" + \"/*\"\n",
        "  genuine = random.sample([file for file in glob.glob(genuine_path)], 3)\n",
        "  imposter = random.sample([file for file in glob.glob(imposter_path)], 1)\n",
        "\n",
        "  sets = [imposter + genuine]\n",
        "\n",
        "\n",
        "print(\"Accuracy: \", correct_predictions / (len(os.listdir(data_path + \"Genuine\"))))\n",
        "print(\"Total time: {}s\\tPrediction time: {}s\\tMean prediction time per set: {}s\".format(time.time() - start_total, time_per_prediction, time_per_prediction / (len(os.listdir(data_path + \"Genuine\")))))"
      ],
      "metadata": {
        "id": "8HMooltW2Yt2"
      },
      "execution_count": null,
      "outputs": []
    },
    {
      "cell_type": "markdown",
      "metadata": {
        "id": "qPjyozbGfxEK"
      },
      "source": [
        "#another resnet34 model\n",
        "This pretrained model came from insigntface, which required inputs as a tensor "
      ]
    },
    {
      "cell_type": "code",
      "execution_count": null,
      "metadata": {
        "id": "MUdXnslBgDrw"
      },
      "outputs": [],
      "source": [
        "!wget https://github.com/leondgarse/Keras_insightface/releases/download/v1.0.0/resnet34_MXNET_E_SGD_REG_1e3_on_batch_true_lr1e1_random0_arc_S32_E1_BS512_casia_basic_agedb_30_epoch_36_0.949500.h5"
      ]
    },
    {
      "cell_type": "code",
      "execution_count": null,
      "metadata": {
        "id": "xChNZI1UgTeG"
      },
      "outputs": [],
      "source": [
        "import tensorflow as tf\n",
        "from tensorflow import keras\n",
        "import numpy as np\n",
        "from tensorflow.keras.preprocessing.image import ImageDataGenerator\n",
        "model_34 = keras.models.load_model(\"resnet34_MXNET_E_SGD_REG_1e3_on_batch_true_lr1e1_random0_arc_S32_E1_BS512_casia_basic_agedb_30_epoch_36_0.949500.h5\", compile=False)\n",
        "model_34.summary()"
      ]
    },
    {
      "cell_type": "code",
      "execution_count": null,
      "metadata": {
        "id": "Yb3rXEX0gXCM"
      },
      "outputs": [],
      "source": [
        "# validation_dir = \"/content/test/\"\n",
        "# IMG_SIZE = (112, 112)\n",
        "# BATCH_SIZE = 1\n",
        "# validation_dataset = tf.keras.utils.image_dataset_from_directory(validation_dir,\n",
        "#                                                                  shuffle=False,\n",
        "#                                                                  batch_size=BATCH_SIZE,\n",
        "#                                                                  image_size=IMG_SIZE)\n",
        "#-----------------------------------------------------------------------------------------#\n",
        "datagen = ImageDataGenerator(rescale=1.0/255.0)\n",
        "test_data = datagen.flow_from_directory('/content/test', target_size=(112,112))"
      ]
    },
    {
      "cell_type": "code",
      "execution_count": null,
      "metadata": {
        "id": "8t3HQNi4jL60"
      },
      "outputs": [],
      "source": [
        "emb = []\n",
        "emb = model.predict(test_data)\n",
        "# emb2 = model_34.predict(img2)"
      ]
    },
    {
      "cell_type": "code",
      "execution_count": null,
      "metadata": {
        "id": "Ynxzw74Wj66L"
      },
      "outputs": [],
      "source": [
        "import matplotlib.pyplot as plt\n",
        "img1 = plt.imread(\"/content/test/0/14_resize.PNG\")\n",
        "img2 = plt.imread(\"/content/test/0/image_resize.jpg\")\n",
        "fig = plt.figure(figsize=(10, 10))\n",
        "\n",
        "rows = 2\n",
        "columns = 2\n",
        "fig.add_subplot(rows, columns, 1)\n",
        "\n",
        "# showing image\n",
        "plt.imshow(img1)\n",
        "plt.axis('off')\n",
        "plt.title(\"First\")\n",
        "  \n",
        "# Adds a subplot at the 2nd position\n",
        "fig.add_subplot(rows, columns, 2)\n",
        "  \n",
        "# showing image\n",
        "plt.imshow(img2)\n",
        "plt.axis('off')\n",
        "plt.title(\"Second\")\n",
        "\n",
        "# Verify person with Cosine distance\n",
        "dist_emb_test = findCosineDistance(emb[0], emb[1])"
      ]
    },
    {
      "cell_type": "markdown",
      "metadata": {
        "id": "uz8gDW2sLhzi"
      },
      "source": [
        "#Convert to onnx model"
      ]
    },
    {
      "cell_type": "code",
      "execution_count": null,
      "metadata": {
        "id": "qZtLLI-aLrH4"
      },
      "outputs": [],
      "source": [
        "!pip install onnxruntime\n",
        "!pip install onnx "
      ]
    },
    {
      "cell_type": "code",
      "execution_count": null,
      "metadata": {
        "id": "m4-1F0XQLhgI"
      },
      "outputs": [],
      "source": [
        "import onnx \n",
        "import onnxruntime\n",
        "\n",
        "model_onnx = onnx.load(\"/content/drive/MyDrive/Colab Notebooks/resnet/resnet34_ducanh.onnx\")\n",
        "outputs = []\n",
        "for node in model_onnx.graph.node:\n",
        "    print(node.name, node.input)\n",
        "    outputs.extend(node.output)\n",
        "\n",
        "# session = onnxruntime.InferenceSession(\"/content/resnet34.onnx\")\n",
        "# input = session.get_outputs()[0]\n",
        "# print(input.shape)"
      ]
    },
    {
      "cell_type": "code",
      "execution_count": null,
      "metadata": {
        "id": "MhmsE-GLINP3"
      },
      "outputs": [],
      "source": [
        "session = onnxruntime.InferenceSession(\"/content/drive/MyDrive/Colab Notebooks/resnet/resnet100.onnx\")\n",
        "input = session.get_inputs()[0]\n",
        "print(input.shape)"
      ]
    },
    {
      "cell_type": "markdown",
      "metadata": {
        "id": "30FwFjzBW02A"
      },
      "source": [
        "freezing tf model and get graph node"
      ]
    },
    {
      "cell_type": "code",
      "execution_count": null,
      "metadata": {
        "id": "fUbIRI1TDIq7"
      },
      "outputs": [],
      "source": [
        "tf.saved_model.save(model, \"/content/demo\")"
      ]
    },
    {
      "cell_type": "code",
      "execution_count": null,
      "metadata": {
        "id": "0jjw6piWXH79"
      },
      "outputs": [],
      "source": [
        "%tensorflow_version 1.x"
      ]
    },
    {
      "cell_type": "code",
      "execution_count": null,
      "metadata": {
        "id": "jK4tPPlgW0Im"
      },
      "outputs": [],
      "source": [
        "import tensorflow as tf\n",
        "\n",
        "def load_graph(frozen_graph_filename):\n",
        "    # We load the protobuf file from the disk and parse it to retrieve the \n",
        "    # unserialized graph_def\n",
        "    with tf.gfile.GFile(frozen_graph_filename, \"rb\") as f:\n",
        "        graph_def = tf.GraphDef()\n",
        "        graph_def.ParseFromString(f.read())\n",
        "\n",
        "    # Then, we import the graph_def into a new Graph and returns it \n",
        "    with tf.Graph().as_default() as graph:\n",
        "        # The name var will prefix every op/nodes in your graph\n",
        "        # Since we load everything in a new graph, this is not needed\n",
        "        tf.import_graph_def(graph_def, name=\"prefix\")\n",
        "    return graph"
      ]
    },
    {
      "cell_type": "code",
      "execution_count": null,
      "metadata": {
        "id": "jWaMa83RW-SH"
      },
      "outputs": [],
      "source": [
        "export_path = '/content/demo/'\n",
        "\n",
        "# We start a session using a temporary fresh Graph\n",
        "with tf.Session(graph=tf.Graph()) as sess:\n",
        "    '''\n",
        "    You can provide 'tags' when saving a model,\n",
        "    in my case I provided, 'serve' tag \n",
        "    '''\n",
        "\n",
        "    tf.saved_model.loader.load(sess, ['serve'], export_path)\n",
        "    graph = tf.get_default_graph()\n",
        "\n",
        "    # print your graph's ops, if needed\n",
        "    print(graph.get_operations())\n",
        "\n",
        "    '''\n",
        "    In my case, I named my input and output tensors as\n",
        "    input:0 and output:0 respectively\n",
        "    ''' \n",
        "    y_pred = sess.run('output:0', feed_dict={'input:0': X_test})"
      ]
    },
    {
      "cell_type": "markdown",
      "metadata": {
        "id": "mx-CaD5YDsq9"
      },
      "source": [
        "####Convert model Arcface to ONNX"
      ]
    },
    {
      "cell_type": "code",
      "execution_count": null,
      "metadata": {
        "id": "3G-iedhDDsSC"
      },
      "outputs": [],
      "source": [
        "!pip install -U tf2onnx"
      ]
    },
    {
      "cell_type": "code",
      "execution_count": null,
      "metadata": {
        "id": "wnu7CChuGfaD"
      },
      "outputs": [],
      "source": [
        ""
      ]
    },
    {
      "cell_type": "code",
      "execution_count": null,
      "metadata": {
        "id": "0OxXaDgOEH2M"
      },
      "outputs": [],
      "source": [
        "%tensorflow_version 2.x\n",
        "!python -m tf2onnx.convert --saved-model /content/demo --output model_demo.onnx --inputs 'StatefulPartitionedCall/ResNet34/conv1_conv/Conv2D__6:0'['None',3,112,112]"
      ]
    }
  ],
  "metadata": {
    "colab": {
      "collapsed_sections": [
        "oXrV91GqZwR3",
        "lnZ-RRT-WM8E",
        "HNBS4YoBZU5U",
        "TmpIu01aPwvW",
        "OdkZRYNqbcpA",
        "qPjyozbGfxEK",
        "uz8gDW2sLhzi"
      ],
      "name": "Copy of Arcface Masked face recognition",
      "provenance": [],
      "mount_file_id": "1_FTEp56uqxRZ9sjTHQfykSMLl_SxWn3r",
      "authorship_tag": "ABX9TyO0ebm1wzyWI2BMf7XGgfAI",
      "include_colab_link": true
    },
    "gpuClass": "standard",
    "kernelspec": {
      "display_name": "Python 3",
      "name": "python3"
    },
    "language_info": {
      "name": "python"
    }
  },
  "nbformat": 4,
  "nbformat_minor": 0
}